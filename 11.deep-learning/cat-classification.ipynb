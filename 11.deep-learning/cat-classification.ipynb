{
 "cells": [
  {
   "cell_type": "code",
   "execution_count": 3,
   "metadata": {},
   "outputs": [
    {
     "data": {
      "text/plain": [
       "True"
      ]
     },
     "execution_count": 3,
     "metadata": {},
     "output_type": "execute_result"
    }
   ],
   "source": [
    "import torch\n",
    "\n",
    "torch.cuda.is_available()"
   ]
  },
  {
   "cell_type": "code",
   "execution_count": 8,
   "metadata": {},
   "outputs": [],
   "source": [
    "from fastai.vision.all import *"
   ]
  },
  {
   "cell_type": "code",
   "execution_count": 12,
   "metadata": {},
   "outputs": [],
   "source": [
    "# path = untar_data(URLs.PETS) / '/images'\n",
    "path = '/home/t1nnur/.fastai/data/oxford-iiit-pet/images'"
   ]
  },
  {
   "cell_type": "code",
   "execution_count": 48,
   "metadata": {},
   "outputs": [],
   "source": [
    "from glob import glob\n",
    "\n",
    "images = glob('/home/t1nnur/.fastai/data/oxford-iiit-pet/images/*.jpg')"
   ]
  },
  {
   "cell_type": "code",
   "execution_count": 70,
   "metadata": {},
   "outputs": [
    {
     "data": {
      "text/html": [
       "<div>\n",
       "<style scoped>\n",
       "    .dataframe tbody tr th:only-of-type {\n",
       "        vertical-align: middle;\n",
       "    }\n",
       "\n",
       "    .dataframe tbody tr th {\n",
       "        vertical-align: top;\n",
       "    }\n",
       "\n",
       "    .dataframe thead th {\n",
       "        text-align: right;\n",
       "    }\n",
       "</style>\n",
       "<table border=\"1\" class=\"dataframe\">\n",
       "  <thead>\n",
       "    <tr style=\"text-align: right;\">\n",
       "      <th></th>\n",
       "      <th>path</th>\n",
       "    </tr>\n",
       "  </thead>\n",
       "  <tbody>\n",
       "    <tr>\n",
       "      <th>0</th>\n",
       "      <td>/home/t1nnur/.fastai/data/oxford-iiit-pet/images/yorkshire_terrier_12.jpg</td>\n",
       "    </tr>\n",
       "    <tr>\n",
       "      <th>1</th>\n",
       "      <td>/home/t1nnur/.fastai/data/oxford-iiit-pet/images/pomeranian_125.jpg</td>\n",
       "    </tr>\n",
       "    <tr>\n",
       "      <th>2</th>\n",
       "      <td>/home/t1nnur/.fastai/data/oxford-iiit-pet/images/samoyed_53.jpg</td>\n",
       "    </tr>\n",
       "    <tr>\n",
       "      <th>3</th>\n",
       "      <td>/home/t1nnur/.fastai/data/oxford-iiit-pet/images/British_Shorthair_89.jpg</td>\n",
       "    </tr>\n",
       "    <tr>\n",
       "      <th>4</th>\n",
       "      <td>/home/t1nnur/.fastai/data/oxford-iiit-pet/images/leonberger_190.jpg</td>\n",
       "    </tr>\n",
       "    <tr>\n",
       "      <th>...</th>\n",
       "      <td>...</td>\n",
       "    </tr>\n",
       "    <tr>\n",
       "      <th>7385</th>\n",
       "      <td>/home/t1nnur/.fastai/data/oxford-iiit-pet/images/basset_hound_24.jpg</td>\n",
       "    </tr>\n",
       "    <tr>\n",
       "      <th>7386</th>\n",
       "      <td>/home/t1nnur/.fastai/data/oxford-iiit-pet/images/Siamese_169.jpg</td>\n",
       "    </tr>\n",
       "    <tr>\n",
       "      <th>7387</th>\n",
       "      <td>/home/t1nnur/.fastai/data/oxford-iiit-pet/images/Russian_Blue_180.jpg</td>\n",
       "    </tr>\n",
       "    <tr>\n",
       "      <th>7388</th>\n",
       "      <td>/home/t1nnur/.fastai/data/oxford-iiit-pet/images/american_bulldog_27.jpg</td>\n",
       "    </tr>\n",
       "    <tr>\n",
       "      <th>7389</th>\n",
       "      <td>/home/t1nnur/.fastai/data/oxford-iiit-pet/images/shiba_inu_124.jpg</td>\n",
       "    </tr>\n",
       "  </tbody>\n",
       "</table>\n",
       "<p>7390 rows × 1 columns</p>\n",
       "</div>"
      ],
      "text/plain": [
       "                                                                           path\n",
       "0     /home/t1nnur/.fastai/data/oxford-iiit-pet/images/yorkshire_terrier_12.jpg\n",
       "1           /home/t1nnur/.fastai/data/oxford-iiit-pet/images/pomeranian_125.jpg\n",
       "2               /home/t1nnur/.fastai/data/oxford-iiit-pet/images/samoyed_53.jpg\n",
       "3     /home/t1nnur/.fastai/data/oxford-iiit-pet/images/British_Shorthair_89.jpg\n",
       "4           /home/t1nnur/.fastai/data/oxford-iiit-pet/images/leonberger_190.jpg\n",
       "...                                                                         ...\n",
       "7385       /home/t1nnur/.fastai/data/oxford-iiit-pet/images/basset_hound_24.jpg\n",
       "7386           /home/t1nnur/.fastai/data/oxford-iiit-pet/images/Siamese_169.jpg\n",
       "7387      /home/t1nnur/.fastai/data/oxford-iiit-pet/images/Russian_Blue_180.jpg\n",
       "7388   /home/t1nnur/.fastai/data/oxford-iiit-pet/images/american_bulldog_27.jpg\n",
       "7389         /home/t1nnur/.fastai/data/oxford-iiit-pet/images/shiba_inu_124.jpg\n",
       "\n",
       "[7390 rows x 1 columns]"
      ]
     },
     "execution_count": 70,
     "metadata": {},
     "output_type": "execute_result"
    }
   ],
   "source": [
    "df = pd.DataFrame({'path': images})\n",
    "\n",
    "df"
   ]
  },
  {
   "cell_type": "code",
   "execution_count": 50,
   "metadata": {},
   "outputs": [
    {
     "data": {
      "text/html": [
       "<div>\n",
       "<style scoped>\n",
       "    .dataframe tbody tr th:only-of-type {\n",
       "        vertical-align: middle;\n",
       "    }\n",
       "\n",
       "    .dataframe tbody tr th {\n",
       "        vertical-align: top;\n",
       "    }\n",
       "\n",
       "    .dataframe thead th {\n",
       "        text-align: right;\n",
       "    }\n",
       "</style>\n",
       "<table border=\"1\" class=\"dataframe\">\n",
       "  <thead>\n",
       "    <tr style=\"text-align: right;\">\n",
       "      <th></th>\n",
       "      <th>path</th>\n",
       "      <th>label</th>\n",
       "    </tr>\n",
       "  </thead>\n",
       "  <tbody>\n",
       "    <tr>\n",
       "      <th>0</th>\n",
       "      <td>/home/t1nnur/.fastai/data/oxford-iiit-pet/images/yorkshire_terrier_12.jpg</td>\n",
       "      <td>0</td>\n",
       "    </tr>\n",
       "    <tr>\n",
       "      <th>1</th>\n",
       "      <td>/home/t1nnur/.fastai/data/oxford-iiit-pet/images/pomeranian_125.jpg</td>\n",
       "      <td>0</td>\n",
       "    </tr>\n",
       "    <tr>\n",
       "      <th>2</th>\n",
       "      <td>/home/t1nnur/.fastai/data/oxford-iiit-pet/images/samoyed_53.jpg</td>\n",
       "      <td>0</td>\n",
       "    </tr>\n",
       "    <tr>\n",
       "      <th>3</th>\n",
       "      <td>/home/t1nnur/.fastai/data/oxford-iiit-pet/images/British_Shorthair_89.jpg</td>\n",
       "      <td>0</td>\n",
       "    </tr>\n",
       "    <tr>\n",
       "      <th>4</th>\n",
       "      <td>/home/t1nnur/.fastai/data/oxford-iiit-pet/images/leonberger_190.jpg</td>\n",
       "      <td>0</td>\n",
       "    </tr>\n",
       "    <tr>\n",
       "      <th>...</th>\n",
       "      <td>...</td>\n",
       "      <td>...</td>\n",
       "    </tr>\n",
       "    <tr>\n",
       "      <th>7385</th>\n",
       "      <td>/home/t1nnur/.fastai/data/oxford-iiit-pet/images/basset_hound_24.jpg</td>\n",
       "      <td>0</td>\n",
       "    </tr>\n",
       "    <tr>\n",
       "      <th>7386</th>\n",
       "      <td>/home/t1nnur/.fastai/data/oxford-iiit-pet/images/Siamese_169.jpg</td>\n",
       "      <td>0</td>\n",
       "    </tr>\n",
       "    <tr>\n",
       "      <th>7387</th>\n",
       "      <td>/home/t1nnur/.fastai/data/oxford-iiit-pet/images/Russian_Blue_180.jpg</td>\n",
       "      <td>0</td>\n",
       "    </tr>\n",
       "    <tr>\n",
       "      <th>7388</th>\n",
       "      <td>/home/t1nnur/.fastai/data/oxford-iiit-pet/images/american_bulldog_27.jpg</td>\n",
       "      <td>0</td>\n",
       "    </tr>\n",
       "    <tr>\n",
       "      <th>7389</th>\n",
       "      <td>/home/t1nnur/.fastai/data/oxford-iiit-pet/images/shiba_inu_124.jpg</td>\n",
       "      <td>0</td>\n",
       "    </tr>\n",
       "  </tbody>\n",
       "</table>\n",
       "<p>7390 rows × 2 columns</p>\n",
       "</div>"
      ],
      "text/plain": [
       "                                                                           path  label\n",
       "0     /home/t1nnur/.fastai/data/oxford-iiit-pet/images/yorkshire_terrier_12.jpg      0\n",
       "1           /home/t1nnur/.fastai/data/oxford-iiit-pet/images/pomeranian_125.jpg      0\n",
       "2               /home/t1nnur/.fastai/data/oxford-iiit-pet/images/samoyed_53.jpg      0\n",
       "3     /home/t1nnur/.fastai/data/oxford-iiit-pet/images/British_Shorthair_89.jpg      0\n",
       "4           /home/t1nnur/.fastai/data/oxford-iiit-pet/images/leonberger_190.jpg      0\n",
       "...                                                                         ...    ...\n",
       "7385       /home/t1nnur/.fastai/data/oxford-iiit-pet/images/basset_hound_24.jpg      0\n",
       "7386           /home/t1nnur/.fastai/data/oxford-iiit-pet/images/Siamese_169.jpg      0\n",
       "7387      /home/t1nnur/.fastai/data/oxford-iiit-pet/images/Russian_Blue_180.jpg      0\n",
       "7388   /home/t1nnur/.fastai/data/oxford-iiit-pet/images/american_bulldog_27.jpg      0\n",
       "7389         /home/t1nnur/.fastai/data/oxford-iiit-pet/images/shiba_inu_124.jpg      0\n",
       "\n",
       "[7390 rows x 2 columns]"
      ]
     },
     "execution_count": 50,
     "metadata": {},
     "output_type": "execute_result"
    }
   ],
   "source": [
    "df['label'] = df.path.map(lambda x: x[0].isupper()).astype(int)\n",
    "\n",
    "df"
   ]
  },
  {
   "cell_type": "code",
   "execution_count": 51,
   "metadata": {},
   "outputs": [],
   "source": [
    "dls = ImageDataLoaders.from_df(df, path='/', item_tfms=Resize((200, 200)))"
   ]
  },
  {
   "cell_type": "code",
   "execution_count": 52,
   "metadata": {},
   "outputs": [],
   "source": [
    "model = vision_learner(dls, resnet18, metrics=accuracy)"
   ]
  },
  {
   "cell_type": "code",
   "execution_count": 53,
   "metadata": {},
   "outputs": [
    {
     "name": "stdout",
     "output_type": "stream",
     "text": [
      "epoch     train_loss  valid_loss  accuracy  time    \n",
      "0         0.000000    0.000000    1.000000  00:15                                        \n",
      "epoch     train_loss  valid_loss  accuracy  time    \n",
      "0         0.000000    0.000000    1.000000  00:19                                        \n",
      "1         0.000000    0.000000    1.000000  00:19                                        \n",
      "2         0.000000    0.000000    1.000000  00:19                                        \n",
      "3         0.000000    0.000000    1.000000  00:19                                        \n",
      "4         0.000000    0.000000    1.000000  00:19                                        \n"
     ]
    }
   ],
   "source": [
    "model.fine_tune(5)"
   ]
  },
  {
   "cell_type": "code",
   "execution_count": null,
   "metadata": {},
   "outputs": [
    {
     "name": "stdout",
     "output_type": "stream",
     "text": [
      "0                                                                    \n",
      "tensor([1.])\n"
     ]
    }
   ],
   "source": [
    "test = '/home/t1nnur/Pictures/pexels-photo-2071882.jpeg'\n",
    "\n",
    "img = PILImage.create(test)\n",
    "\n",
    "pred, _, prob = model.predict(img)\n",
    "\n",
    "print(pred)\n",
    "print(prob)"
   ]
  }
 ],
 "metadata": {
  "kernelspec": {
   "display_name": ".venv",
   "language": "python",
   "name": "python3"
  },
  "language_info": {
   "codemirror_mode": {
    "name": "ipython",
    "version": 3
   },
   "file_extension": ".py",
   "mimetype": "text/x-python",
   "name": "python",
   "nbconvert_exporter": "python",
   "pygments_lexer": "ipython3",
   "version": "3.12.3"
  }
 },
 "nbformat": 4,
 "nbformat_minor": 2
}
