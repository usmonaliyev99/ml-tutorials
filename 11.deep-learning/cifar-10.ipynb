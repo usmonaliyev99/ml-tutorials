{
 "cells": [
  {
   "cell_type": "code",
   "execution_count": 1,
   "metadata": {},
   "outputs": [],
   "source": [
    "import pandas as pd"
   ]
  },
  {
   "cell_type": "code",
   "execution_count": 10,
   "metadata": {},
   "outputs": [
    {
     "data": {
      "text/plain": [
       "Path('/home/t1nnur/.fastai/data/cifar10')"
      ]
     },
     "execution_count": 10,
     "metadata": {},
     "output_type": "execute_result"
    }
   ],
   "source": [
    "from fastai.vision.all import *\n",
    "\n",
    "path = untar_data(URLs.CIFAR)\n",
    "path"
   ]
  },
  {
   "cell_type": "code",
   "execution_count": 19,
   "metadata": {},
   "outputs": [
    {
     "data": {
      "text/plain": [
       "(50000,\n",
       " ['/home/t1nnur/.fastai/data/cifar10/train/deer/21364_deer.png',\n",
       "  '/home/t1nnur/.fastai/data/cifar10/train/deer/33013_deer.png',\n",
       "  '/home/t1nnur/.fastai/data/cifar10/train/deer/38930_deer.png',\n",
       "  '/home/t1nnur/.fastai/data/cifar10/train/deer/25017_deer.png',\n",
       "  '/home/t1nnur/.fastai/data/cifar10/train/deer/36914_deer.png',\n",
       "  '/home/t1nnur/.fastai/data/cifar10/train/deer/15624_deer.png',\n",
       "  '/home/t1nnur/.fastai/data/cifar10/train/deer/43563_deer.png',\n",
       "  '/home/t1nnur/.fastai/data/cifar10/train/deer/7585_deer.png',\n",
       "  '/home/t1nnur/.fastai/data/cifar10/train/deer/33703_deer.png',\n",
       "  '/home/t1nnur/.fastai/data/cifar10/train/deer/9147_deer.png'])"
      ]
     },
     "execution_count": 19,
     "metadata": {},
     "output_type": "execute_result"
    }
   ],
   "source": [
    "from glob import glob\n",
    "\n",
    "images = glob(f\"{path}/train/*/*\")\n",
    "len(images), images[:10]"
   ]
  },
  {
   "cell_type": "code",
   "execution_count": null,
   "metadata": {},
   "outputs": [
    {
     "data": {
      "text/html": [
       "<div>\n",
       "<style scoped>\n",
       "    .dataframe tbody tr th:only-of-type {\n",
       "        vertical-align: middle;\n",
       "    }\n",
       "\n",
       "    .dataframe tbody tr th {\n",
       "        vertical-align: top;\n",
       "    }\n",
       "\n",
       "    .dataframe thead th {\n",
       "        text-align: right;\n",
       "    }\n",
       "</style>\n",
       "<table border=\"1\" class=\"dataframe\">\n",
       "  <thead>\n",
       "    <tr style=\"text-align: right;\">\n",
       "      <th></th>\n",
       "      <th>path</th>\n",
       "    </tr>\n",
       "  </thead>\n",
       "  <tbody>\n",
       "    <tr>\n",
       "      <th>0</th>\n",
       "      <td>/home/t1nnur/.fastai/data/cifar10/train/deer/21364_deer.png</td>\n",
       "    </tr>\n",
       "    <tr>\n",
       "      <th>1</th>\n",
       "      <td>/home/t1nnur/.fastai/data/cifar10/train/deer/33013_deer.png</td>\n",
       "    </tr>\n",
       "    <tr>\n",
       "      <th>2</th>\n",
       "      <td>/home/t1nnur/.fastai/data/cifar10/train/deer/38930_deer.png</td>\n",
       "    </tr>\n",
       "    <tr>\n",
       "      <th>3</th>\n",
       "      <td>/home/t1nnur/.fastai/data/cifar10/train/deer/25017_deer.png</td>\n",
       "    </tr>\n",
       "    <tr>\n",
       "      <th>4</th>\n",
       "      <td>/home/t1nnur/.fastai/data/cifar10/train/deer/36914_deer.png</td>\n",
       "    </tr>\n",
       "    <tr>\n",
       "      <th>...</th>\n",
       "      <td>...</td>\n",
       "    </tr>\n",
       "    <tr>\n",
       "      <th>49995</th>\n",
       "      <td>/home/t1nnur/.fastai/data/cifar10/train/truck/44564_truck.png</td>\n",
       "    </tr>\n",
       "    <tr>\n",
       "      <th>49996</th>\n",
       "      <td>/home/t1nnur/.fastai/data/cifar10/train/truck/6766_truck.png</td>\n",
       "    </tr>\n",
       "    <tr>\n",
       "      <th>49997</th>\n",
       "      <td>/home/t1nnur/.fastai/data/cifar10/train/truck/18557_truck.png</td>\n",
       "    </tr>\n",
       "    <tr>\n",
       "      <th>49998</th>\n",
       "      <td>/home/t1nnur/.fastai/data/cifar10/train/truck/41044_truck.png</td>\n",
       "    </tr>\n",
       "    <tr>\n",
       "      <th>49999</th>\n",
       "      <td>/home/t1nnur/.fastai/data/cifar10/train/truck/147_truck.png</td>\n",
       "    </tr>\n",
       "  </tbody>\n",
       "</table>\n",
       "<p>50000 rows × 1 columns</p>\n",
       "</div>"
      ],
      "text/plain": [
       "                                                                path\n",
       "0        /home/t1nnur/.fastai/data/cifar10/train/deer/21364_deer.png\n",
       "1        /home/t1nnur/.fastai/data/cifar10/train/deer/33013_deer.png\n",
       "2        /home/t1nnur/.fastai/data/cifar10/train/deer/38930_deer.png\n",
       "3        /home/t1nnur/.fastai/data/cifar10/train/deer/25017_deer.png\n",
       "4        /home/t1nnur/.fastai/data/cifar10/train/deer/36914_deer.png\n",
       "...                                                              ...\n",
       "49995  /home/t1nnur/.fastai/data/cifar10/train/truck/44564_truck.png\n",
       "49996   /home/t1nnur/.fastai/data/cifar10/train/truck/6766_truck.png\n",
       "49997  /home/t1nnur/.fastai/data/cifar10/train/truck/18557_truck.png\n",
       "49998  /home/t1nnur/.fastai/data/cifar10/train/truck/41044_truck.png\n",
       "49999    /home/t1nnur/.fastai/data/cifar10/train/truck/147_truck.png\n",
       "\n",
       "[50000 rows x 1 columns]"
      ]
     },
     "execution_count": 26,
     "metadata": {},
     "output_type": "execute_result"
    }
   ],
   "source": [
    "from pathlib import Path\n",
    "\n",
    "df = pd.DataFrame({'path': images})\n",
    "df\n"
   ]
  },
  {
   "cell_type": "code",
   "execution_count": 31,
   "metadata": {},
   "outputs": [
    {
     "data": {
      "text/html": [
       "<div>\n",
       "<style scoped>\n",
       "    .dataframe tbody tr th:only-of-type {\n",
       "        vertical-align: middle;\n",
       "    }\n",
       "\n",
       "    .dataframe tbody tr th {\n",
       "        vertical-align: top;\n",
       "    }\n",
       "\n",
       "    .dataframe thead th {\n",
       "        text-align: right;\n",
       "    }\n",
       "</style>\n",
       "<table border=\"1\" class=\"dataframe\">\n",
       "  <thead>\n",
       "    <tr style=\"text-align: right;\">\n",
       "      <th></th>\n",
       "      <th>path</th>\n",
       "      <th>label</th>\n",
       "    </tr>\n",
       "  </thead>\n",
       "  <tbody>\n",
       "    <tr>\n",
       "      <th>0</th>\n",
       "      <td>/home/t1nnur/.fastai/data/cifar10/train/deer/21364_deer.png</td>\n",
       "      <td>deer</td>\n",
       "    </tr>\n",
       "    <tr>\n",
       "      <th>1</th>\n",
       "      <td>/home/t1nnur/.fastai/data/cifar10/train/deer/33013_deer.png</td>\n",
       "      <td>deer</td>\n",
       "    </tr>\n",
       "    <tr>\n",
       "      <th>2</th>\n",
       "      <td>/home/t1nnur/.fastai/data/cifar10/train/deer/38930_deer.png</td>\n",
       "      <td>deer</td>\n",
       "    </tr>\n",
       "    <tr>\n",
       "      <th>3</th>\n",
       "      <td>/home/t1nnur/.fastai/data/cifar10/train/deer/25017_deer.png</td>\n",
       "      <td>deer</td>\n",
       "    </tr>\n",
       "    <tr>\n",
       "      <th>4</th>\n",
       "      <td>/home/t1nnur/.fastai/data/cifar10/train/deer/36914_deer.png</td>\n",
       "      <td>deer</td>\n",
       "    </tr>\n",
       "    <tr>\n",
       "      <th>...</th>\n",
       "      <td>...</td>\n",
       "      <td>...</td>\n",
       "    </tr>\n",
       "    <tr>\n",
       "      <th>49995</th>\n",
       "      <td>/home/t1nnur/.fastai/data/cifar10/train/truck/44564_truck.png</td>\n",
       "      <td>truck</td>\n",
       "    </tr>\n",
       "    <tr>\n",
       "      <th>49996</th>\n",
       "      <td>/home/t1nnur/.fastai/data/cifar10/train/truck/6766_truck.png</td>\n",
       "      <td>truck</td>\n",
       "    </tr>\n",
       "    <tr>\n",
       "      <th>49997</th>\n",
       "      <td>/home/t1nnur/.fastai/data/cifar10/train/truck/18557_truck.png</td>\n",
       "      <td>truck</td>\n",
       "    </tr>\n",
       "    <tr>\n",
       "      <th>49998</th>\n",
       "      <td>/home/t1nnur/.fastai/data/cifar10/train/truck/41044_truck.png</td>\n",
       "      <td>truck</td>\n",
       "    </tr>\n",
       "    <tr>\n",
       "      <th>49999</th>\n",
       "      <td>/home/t1nnur/.fastai/data/cifar10/train/truck/147_truck.png</td>\n",
       "      <td>truck</td>\n",
       "    </tr>\n",
       "  </tbody>\n",
       "</table>\n",
       "<p>50000 rows × 2 columns</p>\n",
       "</div>"
      ],
      "text/plain": [
       "                                                                path  label\n",
       "0        /home/t1nnur/.fastai/data/cifar10/train/deer/21364_deer.png   deer\n",
       "1        /home/t1nnur/.fastai/data/cifar10/train/deer/33013_deer.png   deer\n",
       "2        /home/t1nnur/.fastai/data/cifar10/train/deer/38930_deer.png   deer\n",
       "3        /home/t1nnur/.fastai/data/cifar10/train/deer/25017_deer.png   deer\n",
       "4        /home/t1nnur/.fastai/data/cifar10/train/deer/36914_deer.png   deer\n",
       "...                                                              ...    ...\n",
       "49995  /home/t1nnur/.fastai/data/cifar10/train/truck/44564_truck.png  truck\n",
       "49996   /home/t1nnur/.fastai/data/cifar10/train/truck/6766_truck.png  truck\n",
       "49997  /home/t1nnur/.fastai/data/cifar10/train/truck/18557_truck.png  truck\n",
       "49998  /home/t1nnur/.fastai/data/cifar10/train/truck/41044_truck.png  truck\n",
       "49999    /home/t1nnur/.fastai/data/cifar10/train/truck/147_truck.png  truck\n",
       "\n",
       "[50000 rows x 2 columns]"
      ]
     },
     "execution_count": 31,
     "metadata": {},
     "output_type": "execute_result"
    }
   ],
   "source": [
    "def label(path: str):\n",
    "    folders = path.split('/')\n",
    "    return folders[-2]\n",
    "\n",
    "df['label'] = df.path.map(label)\n",
    "\n",
    "df"
   ]
  },
  {
   "cell_type": "code",
   "execution_count": 50,
   "metadata": {},
   "outputs": [
    {
     "data": {
      "text/plain": [
       "<matplotlib.image.AxesImage at 0x7b5749c63710>"
      ]
     },
     "execution_count": 50,
     "metadata": {},
     "output_type": "execute_result"
    },
    {
     "data": {
      "image/png": "[encoded data removed]",
      "text/plain": [
       "<Figure size 640x480 with 1 Axes>"
      ]
     },
     "metadata": {},
     "output_type": "display_data"
    }
   ],
   "source": [
    "from matplotlib.pyplot import imread, imshow\n",
    "\n",
    "img = imread(df.sample(1).iloc[0, 0])\n",
    "\n",
    "imshow(img)"
   ]
  },
  {
   "cell_type": "code",
   "execution_count": 51,
   "metadata": {},
   "outputs": [
    {
     "data": {
      "text/plain": [
       "0        [[[0.36862746, 0.3647059, 0.38431373], [0.36862746, 0.3647059, 0.38431373], [0.3529412, 0.34901962, 0.36862746], [0.32941177, 0.3137255, 0.33333334], [0.30588236, 0.28627452, 0.30980393], [0.2509804, 0.23529412, 0.25882354], [0.2627451, 0.24313726, 0.27058825], [0.30588236, 0.2901961, 0.29411766], [0.3019608, 0.28627452, 0.28235295], [0.3019608, 0.28627452, 0.28235295], [0.28235295, 0.26666668, 0.26666668], [0.29411766, 0.27058825, 0.26666668], [0.31764707, 0.28627452, 0.28235295], [0.33333334, 0.30588236, 0.3019608], [0.32941177, 0.29803923, 0.29411766], [0.34901962, 0.32156864, 0.3215686...\n",
       "1        [[[0.34117648, 0.44313726, 0.28627452], [0.36862746, 0.4745098, 0.3137255], [0.42745098, 0.5294118, 0.36862746], [0.40784314, 0.5019608, 0.34117648], [0.40392157, 0.49411765, 0.33333334], [0.42352942, 0.50980395, 0.34509805], [0.46666667, 0.5568628, 0.39215687], [0.43529412, 0.5176471, 0.36078432], [0.37254903, 0.4509804, 0.3019608], [0.32156864, 0.39215687, 0.2509804], [0.31764707, 0.39215687, 0.24705882], [0.34509805, 0.43529412, 0.28627452], [0.4117647, 0.50980395, 0.3647059], [0.44313726, 0.5411765, 0.39215687], [0.4627451, 0.5529412, 0.40392157], [0.47058824, 0.5568628, 0.40392157], [...\n",
       "2        [[[0.16078432, 0.22352941, 0.3647059], [0.14901961, 0.22352941, 0.3647059], [0.13725491, 0.21960784, 0.3647059], [0.12941177, 0.21960784, 0.3647059], [0.1254902, 0.22352941, 0.37254903], [0.12941177, 0.22745098, 0.3764706], [0.12941177, 0.21960784, 0.37254903], [0.12941177, 0.21568628, 0.37254903], [0.13725491, 0.23137255, 0.38431373], [0.15294118, 0.24705882, 0.39607844], [0.16862746, 0.26666668, 0.41568628], [0.18039216, 0.28235295, 0.43137255], [0.18431373, 0.28627452, 0.42352942], [0.18039216, 0.28627452, 0.41960785], [0.17254902, 0.28627452, 0.41568628], [0.18039216, 0.3019608, 0.4274...\n",
       "3        [[[0.7058824, 0.80784315, 0.94509804], [0.70980394, 0.80784315, 0.9490196], [0.7176471, 0.81960785, 0.95686275], [0.69803923, 0.79607844, 0.94509804], [0.7019608, 0.8, 0.9529412], [0.7019608, 0.8, 0.9529412], [0.65882355, 0.7529412, 0.9098039], [0.6666667, 0.76862746, 0.9254902], [0.67058825, 0.77254903, 0.92941177], [0.6392157, 0.7490196, 0.88235295], [0.57254905, 0.6784314, 0.8235294], [0.50980395, 0.6117647, 0.77254903], [0.49803922, 0.59607846, 0.7490196], [0.48235294, 0.5803922, 0.7372549], [0.5019608, 0.6, 0.75686276], [0.52156866, 0.6156863, 0.77254903], [0.49411765, 0.5921569, 0.75...\n",
       "4        [[[0.4745098, 0.3882353, 0.29411766], [0.5372549, 0.4627451, 0.36862746], [0.5764706, 0.48235294, 0.39607844], [0.68235296, 0.5411765, 0.47058824], [0.7647059, 0.627451, 0.53333336], [0.7411765, 0.64705884, 0.49803922], [0.7254902, 0.6313726, 0.49019608], [0.73333335, 0.6392157, 0.50980395], [0.7294118, 0.6313726, 0.50980395], [0.72156864, 0.62352943, 0.5058824], [0.63529414, 0.5529412, 0.41568628], [0.5882353, 0.5137255, 0.3529412], [0.5764706, 0.50980395, 0.32941177], [0.63529414, 0.5803922, 0.3764706], [0.60784316, 0.56078434, 0.3372549], [0.4627451, 0.4392157, 0.22352941], [0.49411765,...\n",
       "                                                                                                                                                                                                                                                                                                                  ...                                                                                                                                                                                                                                                                                                           \n",
       "49995    [[[0.7019608, 0.77254903, 0.8392157], [0.6745098, 0.75686276, 0.8235294], [0.67058825, 0.7607843, 0.8235294], [0.67058825, 0.75686276, 0.83137256], [0.654902, 0.7529412, 0.83137256], [0.6627451, 0.7607843, 0.8392157], [0.67058825, 0.76862746, 0.84313726], [0.654902, 0.75686276, 0.8352941], [0.6431373, 0.7529412, 0.83137256], [0.63529414, 0.74509805, 0.8392157], [0.61960787, 0.73333335, 0.8352941], [0.60784316, 0.7294118, 0.8352941], [0.6117647, 0.73333335, 0.8392157], [0.6156863, 0.73333335, 0.8392157], [0.6117647, 0.7294118, 0.8352941], [0.5921569, 0.7176471, 0.83137256], [0.57254905, 0.7...\n",
       "49996    [[[0.5254902, 0.5254902, 0.30588236], [0.41568628, 0.41960785, 0.14901961], [0.47058824, 0.47843137, 0.20392157], [0.43529412, 0.43529412, 0.2], [0.3529412, 0.36078432, 0.14117648], [0.3019608, 0.32156864, 0.09803922], [0.3019608, 0.32156864, 0.09803922], [0.3372549, 0.35686275, 0.13333334], [0.40784314, 0.42745098, 0.20392157], [0.4509804, 0.47058824, 0.24313726], [0.43137255, 0.4627451, 0.21568628], [0.36078432, 0.3882353, 0.18039216], [0.41960785, 0.4392157, 0.2784314], [0.5254902, 0.54509807, 0.38039216], [0.42352942, 0.4509804, 0.24705882], [0.39215687, 0.39607844, 0.21568628], [0.337...\n",
       "49997    [[[1.0, 1.0, 1.0], [0.9882353, 0.9882353, 0.9882353], [0.9882353, 0.9882353, 0.9882353], [0.9882353, 0.9882353, 0.9882353], [0.9882353, 0.9882353, 0.9882353], [0.9882353, 0.9882353, 0.9882353], [0.9882353, 0.9882353, 0.9882353], [0.9882353, 0.9882353, 0.9882353], [0.9882353, 0.9882353, 0.9882353], [0.9882353, 0.9882353, 0.9882353], [0.9843137, 0.9843137, 0.9843137], [0.9843137, 0.9843137, 0.9843137], [0.9843137, 0.9843137, 0.9843137], [0.9843137, 0.9843137, 0.9843137], [0.9843137, 0.9843137, 0.9843137], [0.9843137, 0.9843137, 0.9843137], [0.9843137, 0.9843137, 0.9843137], [0.9843137, 0.984...\n",
       "49998    [[[0.48235294, 0.4627451, 0.34901962], [0.4509804, 0.43137255, 0.32941177], [0.42745098, 0.43529412, 0.31764707], [0.4862745, 0.5058824, 0.42352942], [0.5803922, 0.5921569, 0.56078434], [0.57254905, 0.5764706, 0.57254905], [0.54509807, 0.5529412, 0.5372549], [0.53333336, 0.54509807, 0.5058824], [0.5254902, 0.53333336, 0.48235294], [0.49019608, 0.49411765, 0.42745098], [0.42352942, 0.43529412, 0.37254903], [0.41960785, 0.43529412, 0.36862746], [0.4745098, 0.4862745, 0.40784314], [0.47843137, 0.48235294, 0.39607844], [0.45882353, 0.47058824, 0.38039216], [0.40784314, 0.42745098, 0.3254902], ...\n",
       "49999    [[[0.68235296, 0.7254902, 0.94509804], [0.6666667, 0.7176471, 0.92941177], [0.67058825, 0.72156864, 0.93333334], [0.6745098, 0.7294118, 0.9411765], [0.6745098, 0.7294118, 0.9411765], [0.6745098, 0.7294118, 0.9372549], [0.6745098, 0.7294118, 0.9372549], [0.6745098, 0.7294118, 0.9372549], [0.6745098, 0.7294118, 0.9372549], [0.6784314, 0.7254902, 0.93333334], [0.68235296, 0.7294118, 0.92941177], [0.6784314, 0.7254902, 0.9254902], [0.6745098, 0.72156864, 0.92156863], [0.6745098, 0.72156864, 0.9254902], [0.6784314, 0.7294118, 0.9372549], [0.6745098, 0.7254902, 0.93333334], [0.6745098, 0.7254902...\n",
       "Name: path, Length: 50000, dtype: object"
      ]
     },
     "execution_count": 51,
     "metadata": {},
     "output_type": "execute_result"
    }
   ],
   "source": [
    "X = df.path.apply(lambda x: imread(x))\n",
    "X"
   ]
  },
  {
   "cell_type": "code",
   "execution_count": 53,
   "metadata": {},
   "outputs": [
    {
     "data": {
      "text/plain": [
       "0         deer\n",
       "1         deer\n",
       "2         deer\n",
       "3         deer\n",
       "4         deer\n",
       "         ...  \n",
       "49995    truck\n",
       "49996    truck\n",
       "49997    truck\n",
       "49998    truck\n",
       "49999    truck\n",
       "Name: path, Length: 50000, dtype: object"
      ]
     },
     "execution_count": 53,
     "metadata": {},
     "output_type": "execute_result"
    }
   ],
   "source": [
    "y = df.label\n",
    "y"
   ]
  }
 ],
 "metadata": {
  "kernelspec": {
   "display_name": ".venv",
   "language": "python",
   "name": "python3"
  },
  "language_info": {
   "codemirror_mode": {
    "name": "ipython",
    "version": 3
   },
   "file_extension": ".py",
   "mimetype": "text/x-python",
   "name": "python",
   "nbconvert_exporter": "python",
   "pygments_lexer": "ipython3",
   "version": "3.12.3"
  }
 },
 "nbformat": 4,
 "nbformat_minor": 2
}
