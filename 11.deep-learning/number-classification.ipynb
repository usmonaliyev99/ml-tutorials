{
 "cells": [
  {
   "cell_type": "code",
   "execution_count": 3,
   "metadata": {},
   "outputs": [],
   "source": [
    "import pandas as pd\n",
    "import numpy as np"
   ]
  },
  {
   "cell_type": "code",
   "execution_count": 4,
   "metadata": {},
   "outputs": [
    {
     "data": {
      "text/plain": [
       "True"
      ]
     },
     "execution_count": 4,
     "metadata": {},
     "output_type": "execute_result"
    }
   ],
   "source": [
    "import torch\n",
    "\n",
    "torch.cuda.is_available()"
   ]
  },
  {
   "cell_type": "code",
   "execution_count": 3,
   "metadata": {},
   "outputs": [
    {
     "name": "stdout",
     "output_type": "stream",
     "text": [
      " |████████████████████████████████████████| 100.03% [15687680/15683414 00:18<00:00]\r"
     ]
    },
    {
     "data": {
      "text/plain": [
       "Path('/home/t1nnur/.fastai/data/mnist_png')"
      ]
     },
     "execution_count": 3,
     "metadata": {},
     "output_type": "execute_result"
    }
   ],
   "source": [
    "from fastai.vision.all import untar_data, URLs\n",
    "\n",
    "path = untar_data(URLs.MNIST) \n",
    "\n",
    "path"
   ]
  },
  {
   "cell_type": "code",
   "execution_count": 5,
   "metadata": {},
   "outputs": [],
   "source": [
    "from fastai.vision.all import ImageDataLoaders\n",
    "\n",
    "dls = ImageDataLoaders.from_folder(path, train='training', valid='testing')"
   ]
  },
  {
   "cell_type": "code",
   "execution_count": 39,
   "metadata": {},
   "outputs": [],
   "source": [
    "from fastai.vision.all import vision_learner, resnet34, accuracy\n",
    "\n",
    "learner = vision_learner(dls, resnet34, metrics=accuracy)"
   ]
  },
  {
   "cell_type": "code",
   "execution_count": 40,
   "metadata": {},
   "outputs": [
    {
     "name": "stdout",
     "output_type": "stream",
     "text": [
      "epoch     train_loss  valid_loss  accuracy  time    \n",
      "0         0.623629    0.421036    0.870200  00:20                                          \n",
      "epoch     train_loss  valid_loss  accuracy  time    \n",
      "0         0.097517    0.043697    0.986200  00:33                                          \n",
      "1         0.039814    0.026424    0.991400  00:32                                          \n"
     ]
    }
   ],
   "source": [
    "learner.fine_tune(2)"
   ]
  },
  {
   "cell_type": "code",
   "execution_count": 42,
   "metadata": {},
   "outputs": [
    {
     "name": "stdout",
     "output_type": "stream",
     "text": [
      " |----------------------------------------| 0.00% [0/1 00:00<?]\r"
     ]
    },
    {
     "name": "stdout",
     "output_type": "stream",
     "text": [
      "Prediction: 2                                                        \n",
      "Accuracy: tensor([5.3335e-02, 1.5856e-03, 4.3284e-01, 4.1831e-01, 1.3694e-06, 2.5796e-02,\n",
      "        4.5213e-03, 5.0988e-02, 8.8543e-03, 3.7679e-03])\n"
     ]
    }
   ],
   "source": [
    "from fastai.vision.all import PILImage\n",
    "\n",
    "img = PILImage.create('/home/t1nnur/Pictures/2.jpg')\n",
    "\n",
    "prediction, _, accuracy = learner.predict(img)\n",
    "\n",
    "print(f\"Prediction: {prediction}\")\n",
    "print(f\"Accuracy: {accuracy}\")"
   ]
  }
 ],
 "metadata": {
  "kernelspec": {
   "display_name": ".venv",
   "language": "python",
   "name": "python3"
  },
  "language_info": {
   "codemirror_mode": {
    "name": "ipython",
    "version": 3
   },
   "file_extension": ".py",
   "mimetype": "text/x-python",
   "name": "python",
   "nbconvert_exporter": "python",
   "pygments_lexer": "ipython3",
   "version": "3.12.3"
  }
 },
 "nbformat": 4,
 "nbformat_minor": 2
}
