{
 "cells": [
  {
   "cell_type": "markdown",
   "id": "7154cc0a-aa4d-43f5-b1ef-40bc4aecf369",
   "metadata": {},
   "source": [
    "![Imgur](https://i.imgur.com/5pXzCIu.png)\n",
    "\n",
    "# Data Science va Sun'iy Intellekt Praktikum\n",
    "\n",
    "## 5-MODUL. Machine Learning. \n",
    "\n",
    "### Linear Regression"
   ]
  },
  {
   "cell_type": "code",
   "execution_count": 125,
   "id": "84bfdab2-9d2d-450e-8490-1ab72e912abf",
   "metadata": {},
   "outputs": [
    {
     "data": {
      "text/html": [
       "<div>\n",
       "<style scoped>\n",
       "    .dataframe tbody tr th:only-of-type {\n",
       "        vertical-align: middle;\n",
       "    }\n",
       "\n",
       "    .dataframe tbody tr th {\n",
       "        vertical-align: top;\n",
       "    }\n",
       "\n",
       "    .dataframe thead th {\n",
       "        text-align: right;\n",
       "    }\n",
       "</style>\n",
       "<table border=\"1\" class=\"dataframe\">\n",
       "  <thead>\n",
       "    <tr style=\"text-align: right;\">\n",
       "      <th></th>\n",
       "      <th>district</th>\n",
       "      <th>rooms</th>\n",
       "      <th>size</th>\n",
       "      <th>level</th>\n",
       "      <th>max_levels</th>\n",
       "      <th>price</th>\n",
       "    </tr>\n",
       "  </thead>\n",
       "  <tbody>\n",
       "    <tr>\n",
       "      <th>0</th>\n",
       "      <td>Юнусабадский</td>\n",
       "      <td>3</td>\n",
       "      <td>57.0</td>\n",
       "      <td>4</td>\n",
       "      <td>4</td>\n",
       "      <td>52000.0</td>\n",
       "    </tr>\n",
       "    <tr>\n",
       "      <th>1</th>\n",
       "      <td>Яккасарайский</td>\n",
       "      <td>2</td>\n",
       "      <td>52.0</td>\n",
       "      <td>4</td>\n",
       "      <td>5</td>\n",
       "      <td>56000.0</td>\n",
       "    </tr>\n",
       "    <tr>\n",
       "      <th>2</th>\n",
       "      <td>Чиланзарский</td>\n",
       "      <td>2</td>\n",
       "      <td>42.0</td>\n",
       "      <td>4</td>\n",
       "      <td>4</td>\n",
       "      <td>37000.0</td>\n",
       "    </tr>\n",
       "    <tr>\n",
       "      <th>3</th>\n",
       "      <td>Чиланзарский</td>\n",
       "      <td>3</td>\n",
       "      <td>65.0</td>\n",
       "      <td>1</td>\n",
       "      <td>4</td>\n",
       "      <td>49500.0</td>\n",
       "    </tr>\n",
       "    <tr>\n",
       "      <th>4</th>\n",
       "      <td>Чиланзарский</td>\n",
       "      <td>3</td>\n",
       "      <td>70.0</td>\n",
       "      <td>3</td>\n",
       "      <td>5</td>\n",
       "      <td>55000.0</td>\n",
       "    </tr>\n",
       "    <tr>\n",
       "      <th>5</th>\n",
       "      <td>Чиланзарский</td>\n",
       "      <td>1</td>\n",
       "      <td>28.0</td>\n",
       "      <td>1</td>\n",
       "      <td>4</td>\n",
       "      <td>25500.0</td>\n",
       "    </tr>\n",
       "    <tr>\n",
       "      <th>6</th>\n",
       "      <td>Чиланзарский</td>\n",
       "      <td>1</td>\n",
       "      <td>30.0</td>\n",
       "      <td>2</td>\n",
       "      <td>4</td>\n",
       "      <td>21200.0</td>\n",
       "    </tr>\n",
       "    <tr>\n",
       "      <th>7</th>\n",
       "      <td>Яккасарайский</td>\n",
       "      <td>2</td>\n",
       "      <td>32.0</td>\n",
       "      <td>5</td>\n",
       "      <td>5</td>\n",
       "      <td>20000.0</td>\n",
       "    </tr>\n",
       "    <tr>\n",
       "      <th>8</th>\n",
       "      <td>Учтепинский</td>\n",
       "      <td>2</td>\n",
       "      <td>51.0</td>\n",
       "      <td>3</td>\n",
       "      <td>4</td>\n",
       "      <td>26200.0</td>\n",
       "    </tr>\n",
       "    <tr>\n",
       "      <th>9</th>\n",
       "      <td>Чиланзарский</td>\n",
       "      <td>1</td>\n",
       "      <td>30.0</td>\n",
       "      <td>1</td>\n",
       "      <td>4</td>\n",
       "      <td>22200.0</td>\n",
       "    </tr>\n",
       "  </tbody>\n",
       "</table>\n",
       "</div>"
      ],
      "text/plain": [
       "        district  rooms  size  level  max_levels    price\n",
       "0   Юнусабадский      3  57.0      4           4  52000.0\n",
       "1  Яккасарайский      2  52.0      4           5  56000.0\n",
       "2   Чиланзарский      2  42.0      4           4  37000.0\n",
       "3   Чиланзарский      3  65.0      1           4  49500.0\n",
       "4   Чиланзарский      3  70.0      3           5  55000.0\n",
       "5   Чиланзарский      1  28.0      1           4  25500.0\n",
       "6   Чиланзарский      1  30.0      2           4  21200.0\n",
       "7  Яккасарайский      2  32.0      5           5  20000.0\n",
       "8    Учтепинский      2  51.0      3           4  26200.0\n",
       "9   Чиланзарский      1  30.0      1           4  22200.0"
      ]
     },
     "execution_count": 125,
     "metadata": {},
     "output_type": "execute_result"
    }
   ],
   "source": [
    "import pandas as pd\n",
    "df = pd.read_csv('https://github.com/anvarnarz/praktikum_datasets/blob/main/housing_LR.csv?raw=true', index_col=0)\n",
    "\n",
    "df.head(10)"
   ]
  },
  {
   "cell_type": "markdown",
   "id": "cd004a7d-846f-4f4a-9a4c-9d5ce65ba3e9",
   "metadata": {},
   "source": [
    "# Ustunlar ta'rifi\n",
    "- `location` - sotilayotgan uy manzili\n",
    "- `district` - uy joylashgan tuman\n",
    "- `rooms` - xonalar soni\n",
    "- `size` - uy maydoni (kv.m)\n",
    "- `level` - uy"
   ]
  },
  {
   "cell_type": "code",
   "execution_count": 126,
   "id": "fdfd182e-e0fd-412d-98c9-d8fb3d76833c",
   "metadata": {},
   "outputs": [
    {
     "data": {
      "text/plain": [
       "Чиланзарский         1616\n",
       "Мирзо-Улугбекский    1342\n",
       "Учтепинский           872\n",
       "Юнусабадский          847\n",
       "Мирабадский           717\n",
       "Яккасарайский         628\n",
       "Яшнободский           456\n",
       "Шайхантахурский       356\n",
       "Олмазорский           262\n",
       "Сергелийский          159\n",
       "Янгихаётский           15\n",
       "Бектемирский            8\n",
       "Name: district, dtype: int64"
      ]
     },
     "execution_count": 126,
     "metadata": {},
     "output_type": "execute_result"
    }
   ],
   "source": [
    "df['district'].value_counts()"
   ]
  },
  {
   "cell_type": "markdown",
   "id": "9c3cd55e",
   "metadata": {},
   "source": [
    "# Manual (SimpleRegression)"
   ]
  },
  {
   "cell_type": "markdown",
   "id": "a0811ab4-f241-4214-87a1-df3ae02cd6c5",
   "metadata": {},
   "source": [
    "**Darsimiz uchun Chilonzor tumanidagi uylarning narxini bashorat qilib ko'ramiz**"
   ]
  },
  {
   "cell_type": "code",
   "execution_count": 127,
   "id": "c54fde41-aead-4e9c-948b-5765763ee60f",
   "metadata": {},
   "outputs": [
    {
     "data": {
      "text/html": [
       "<div>\n",
       "<style scoped>\n",
       "    .dataframe tbody tr th:only-of-type {\n",
       "        vertical-align: middle;\n",
       "    }\n",
       "\n",
       "    .dataframe tbody tr th {\n",
       "        vertical-align: top;\n",
       "    }\n",
       "\n",
       "    .dataframe thead th {\n",
       "        text-align: right;\n",
       "    }\n",
       "</style>\n",
       "<table border=\"1\" class=\"dataframe\">\n",
       "  <thead>\n",
       "    <tr style=\"text-align: right;\">\n",
       "      <th></th>\n",
       "      <th>district</th>\n",
       "      <th>rooms</th>\n",
       "      <th>size</th>\n",
       "      <th>level</th>\n",
       "      <th>max_levels</th>\n",
       "      <th>price</th>\n",
       "    </tr>\n",
       "  </thead>\n",
       "  <tbody>\n",
       "    <tr>\n",
       "      <th>2</th>\n",
       "      <td>Чиланзарский</td>\n",
       "      <td>2</td>\n",
       "      <td>42.0</td>\n",
       "      <td>4</td>\n",
       "      <td>4</td>\n",
       "      <td>37000.0</td>\n",
       "    </tr>\n",
       "    <tr>\n",
       "      <th>3</th>\n",
       "      <td>Чиланзарский</td>\n",
       "      <td>3</td>\n",
       "      <td>65.0</td>\n",
       "      <td>1</td>\n",
       "      <td>4</td>\n",
       "      <td>49500.0</td>\n",
       "    </tr>\n",
       "    <tr>\n",
       "      <th>4</th>\n",
       "      <td>Чиланзарский</td>\n",
       "      <td>3</td>\n",
       "      <td>70.0</td>\n",
       "      <td>3</td>\n",
       "      <td>5</td>\n",
       "      <td>55000.0</td>\n",
       "    </tr>\n",
       "    <tr>\n",
       "      <th>5</th>\n",
       "      <td>Чиланзарский</td>\n",
       "      <td>1</td>\n",
       "      <td>28.0</td>\n",
       "      <td>1</td>\n",
       "      <td>4</td>\n",
       "      <td>25500.0</td>\n",
       "    </tr>\n",
       "    <tr>\n",
       "      <th>6</th>\n",
       "      <td>Чиланзарский</td>\n",
       "      <td>1</td>\n",
       "      <td>30.0</td>\n",
       "      <td>2</td>\n",
       "      <td>4</td>\n",
       "      <td>21200.0</td>\n",
       "    </tr>\n",
       "  </tbody>\n",
       "</table>\n",
       "</div>"
      ],
      "text/plain": [
       "       district  rooms  size  level  max_levels    price\n",
       "2  Чиланзарский      2  42.0      4           4  37000.0\n",
       "3  Чиланзарский      3  65.0      1           4  49500.0\n",
       "4  Чиланзарский      3  70.0      3           5  55000.0\n",
       "5  Чиланзарский      1  28.0      1           4  25500.0\n",
       "6  Чиланзарский      1  30.0      2           4  21200.0"
      ]
     },
     "execution_count": 127,
     "metadata": {},
     "output_type": "execute_result"
    }
   ],
   "source": [
    "housing = df[df.district=='Чиланзарский']\n",
    "housing.head()"
   ]
  },
  {
   "cell_type": "code",
   "execution_count": 128,
   "id": "f65fd3c7-fea1-4e62-b514-8962e7b8e7ce",
   "metadata": {},
   "outputs": [
    {
     "data": {
      "text/plain": [
       "2       42.0\n",
       "3       65.0\n",
       "4       70.0\n",
       "5       28.0\n",
       "6       30.0\n",
       "        ... \n",
       "7404    70.0\n",
       "7422    20.0\n",
       "7433    32.0\n",
       "7445    70.0\n",
       "7464    30.0\n",
       "Name: size, Length: 1616, dtype: float64"
      ]
     },
     "execution_count": 128,
     "metadata": {},
     "output_type": "execute_result"
    }
   ],
   "source": [
    "X = housing['size']\n",
    "X"
   ]
  },
  {
   "cell_type": "code",
   "execution_count": 129,
   "id": "94126c82-8be2-4b98-bbe6-4ae49934aa9f",
   "metadata": {},
   "outputs": [
    {
     "data": {
      "text/plain": [
       "2       37000.0\n",
       "3       49500.0\n",
       "4       55000.0\n",
       "5       25500.0\n",
       "6       21200.0\n",
       "         ...   \n",
       "7404    48000.0\n",
       "7422    18500.0\n",
       "7433    28000.0\n",
       "7445    49800.0\n",
       "7464    22914.0\n",
       "Name: price, Length: 1616, dtype: float64"
      ]
     },
     "execution_count": 129,
     "metadata": {},
     "output_type": "execute_result"
    }
   ],
   "source": [
    "y = housing['price']\n",
    "y"
   ]
  },
  {
   "cell_type": "markdown",
   "id": "7bcc2e9e-cd49-429e-9edc-62b42bcf52b3",
   "metadata": {},
   "source": [
    "**Narx va uy maydoni o'rtasida chiziqli bog'liqlik bor ekanini tekshirib ko'ramiz.**"
   ]
  },
  {
   "cell_type": "code",
   "execution_count": 130,
   "id": "7b447da1-3715-4c21-bc65-02ce3ee226c1",
   "metadata": {},
   "outputs": [],
   "source": [
    "import matplotlib.pyplot as plt\n",
    "import seaborn as sns"
   ]
  },
  {
   "cell_type": "code",
   "execution_count": 131,
   "id": "b3892c14-8b0a-40a3-bf96-487408787386",
   "metadata": {},
   "outputs": [
    {
     "data": {
      "image/png": "[encoded data removed]",
      "text/plain": [
       "<Figure size 1000x600 with 1 Axes>"
      ]
     },
     "metadata": {},
     "output_type": "display_data"
    }
   ],
   "source": [
    "plt.figure(figsize=(10,6))\n",
    "\n",
    "sns.scatterplot(data=housing, x='size', y='price')\n",
    "\n",
    "plt.show()"
   ]
  },
  {
   "cell_type": "code",
   "execution_count": 132,
   "id": "36b7afbb-4e03-4c34-ac86-de677141afc1",
   "metadata": {},
   "outputs": [
    {
     "data": {
      "image/png": "[encoded data removed]",
      "text/plain": [
       "<Figure size 1000x600 with 1 Axes>"
      ]
     },
     "metadata": {},
     "output_type": "display_data"
    }
   ],
   "source": [
    "plt.figure(figsize=(10,6))\n",
    "\n",
    "sns.regplot(data=housing, x='size', y='price', line_kws={\"color\": \"red\"})\n",
    "\n",
    "plt.show()"
   ]
  },
  {
   "cell_type": "markdown",
   "id": "8654473f-7b86-4bfb-8ff0-ad10099f472e",
   "metadata": {},
   "source": [
    "## 1-Vazifa\n",
    "Sizning vazifangiz yuqoridagi `X` va `y` o'zgaruvchilardan quyidagi formuladan foydalangan xolda $\\theta_0$ va $\\theta_1$ koeffisientlarni hisoblash.\n",
    "\n",
    "![Imgur](https://i.imgur.com/zZoXZxI.png)\n",
    "\n",
    "Bu yerda $\\tilde{x}$ - `X` ustun uchun o'rtracha qiymat,  $\\tilde{y}$ - `y` ustun uchun o'rtracha qiymat"
   ]
  },
  {
   "cell_type": "code",
   "execution_count": 133,
   "id": "e4d146e8-1d8d-4de2-aa69-0af19f9c42fc",
   "metadata": {},
   "outputs": [
    {
     "data": {
      "text/plain": [
       "740.0264822713249"
      ]
     },
     "execution_count": 133,
     "metadata": {},
     "output_type": "execute_result"
    }
   ],
   "source": [
    "temp = pd.DataFrame({'x': X, 'y': y})\n",
    "\n",
    "temp['x_without_mean'] = temp['x'] - X.mean()\n",
    "temp['y_without_mean'] = temp['y'] - y.mean()\n",
    "\n",
    "temp['x*y'] = temp['x_without_mean'] * temp['y_without_mean']\n",
    "\n",
    "temp['x_without_mean_square'] = temp['x_without_mean'] ** 2\n",
    "\n",
    "o1 = temp['x*y'].sum() / temp['x_without_mean_square'].sum()\n",
    "o1"
   ]
  },
  {
   "cell_type": "code",
   "execution_count": 134,
   "id": "71e8bf50-b3e3-4b1c-9f93-997dc2cb52fc",
   "metadata": {},
   "outputs": [
    {
     "data": {
      "text/plain": [
       "-195.94911352666531"
      ]
     },
     "execution_count": 134,
     "metadata": {},
     "output_type": "execute_result"
    }
   ],
   "source": [
    "o0 = y.mean() - o1 * X.mean()\n",
    "o0"
   ]
  },
  {
   "cell_type": "markdown",
   "id": "72486449-3955-4d88-9c2a-0f893a2aa6b5",
   "metadata": {},
   "source": [
    "## 2-Vazifa\n",
    "`X` dan bir nechta tasodifiy qiymatlarni ajratib oling va ularga mos keluvchi `y` ni yuqoridagi koeffisientlar yordamida hisoblab ko'ring.\n",
    "\n",
    "![Imgur](https://i.imgur.com/iT5tffj.png)"
   ]
  },
  {
   "cell_type": "code",
   "execution_count": 135,
   "id": "77d7e635-6d95-4e8b-88f1-31b4aa533df4",
   "metadata": {},
   "outputs": [
    {
     "data": {
      "text/plain": [
       "2984     68.0\n",
       "3897    114.0\n",
       "4193     50.0\n",
       "291      52.0\n",
       "5935     57.0\n",
       "7047     72.0\n",
       "5329     60.0\n",
       "528      51.0\n",
       "1367     82.0\n",
       "6913     68.0\n",
       "Name: size, dtype: float64"
      ]
     },
     "execution_count": 135,
     "metadata": {},
     "output_type": "execute_result"
    }
   ],
   "source": [
    "X_test = X.sample(10)\n",
    "\n",
    "X_test"
   ]
  },
  {
   "cell_type": "code",
   "execution_count": 136,
   "id": "64eb345e",
   "metadata": {},
   "outputs": [
    {
     "data": {
      "text/plain": [
       "2984     68000.0\n",
       "3897    160000.0\n",
       "4193     35000.0\n",
       "291      38000.0\n",
       "5935     46000.0\n",
       "7047     66000.0\n",
       "5329     44800.0\n",
       "528      26200.0\n",
       "1367     63500.0\n",
       "6913     35000.0\n",
       "Name: price, dtype: float64"
      ]
     },
     "execution_count": 136,
     "metadata": {},
     "output_type": "execute_result"
    }
   ],
   "source": [
    "y_test = y.loc[X_test.index]\n",
    "y_test"
   ]
  },
  {
   "cell_type": "code",
   "execution_count": 137,
   "id": "bfb36b35",
   "metadata": {},
   "outputs": [
    {
     "data": {
      "text/plain": [
       "2984    50125.851681\n",
       "3897    84167.069865\n",
       "4193    36805.375000\n",
       "291     38285.427965\n",
       "5935    41985.560376\n",
       "7047    53085.957610\n",
       "5329    44205.639823\n",
       "528     37545.401482\n",
       "1367    60486.222433\n",
       "6913    50125.851681\n",
       "Name: size, dtype: float64"
      ]
     },
     "execution_count": 137,
     "metadata": {},
     "output_type": "execute_result"
    }
   ],
   "source": [
    "labels = o0 + o1 * X_test\n",
    "\n",
    "labels"
   ]
  },
  {
   "cell_type": "markdown",
   "id": "e62395a5-6d5d-49e4-b5ca-ef6375fa93e8",
   "metadata": {},
   "source": [
    "## 3-Vazifa\n",
    "\n",
    "Hisoblangan va asl qiymtlar o'rtasidagi RMSE (root mean square error), MAE (mean absolute error) hisoblang.\n",
    "\n",
    "![Imgur](https://i.imgur.com/GJH9CGy.png)\n",
    "\n",
    "![Imgur](https://i.imgur.com/aXL9iWa.png)"
   ]
  },
  {
   "cell_type": "code",
   "execution_count": 138,
   "id": "ccc48a76-6efc-4c98-a12f-300f8a1bdaae",
   "metadata": {},
   "outputs": [],
   "source": [
    "import numpy as np"
   ]
  },
  {
   "cell_type": "code",
   "execution_count": 139,
   "id": "a6e5120b",
   "metadata": {},
   "outputs": [
    {
     "data": {
      "text/html": [
       "<div>\n",
       "<style scoped>\n",
       "    .dataframe tbody tr th:only-of-type {\n",
       "        vertical-align: middle;\n",
       "    }\n",
       "\n",
       "    .dataframe tbody tr th {\n",
       "        vertical-align: top;\n",
       "    }\n",
       "\n",
       "    .dataframe thead th {\n",
       "        text-align: right;\n",
       "    }\n",
       "</style>\n",
       "<table border=\"1\" class=\"dataframe\">\n",
       "  <thead>\n",
       "    <tr style=\"text-align: right;\">\n",
       "      <th></th>\n",
       "      <th>true</th>\n",
       "      <th>predicted</th>\n",
       "    </tr>\n",
       "  </thead>\n",
       "  <tbody>\n",
       "    <tr>\n",
       "      <th>2984</th>\n",
       "      <td>68000.0</td>\n",
       "      <td>50125.851681</td>\n",
       "    </tr>\n",
       "    <tr>\n",
       "      <th>3897</th>\n",
       "      <td>160000.0</td>\n",
       "      <td>84167.069865</td>\n",
       "    </tr>\n",
       "    <tr>\n",
       "      <th>4193</th>\n",
       "      <td>35000.0</td>\n",
       "      <td>36805.375000</td>\n",
       "    </tr>\n",
       "    <tr>\n",
       "      <th>291</th>\n",
       "      <td>38000.0</td>\n",
       "      <td>38285.427965</td>\n",
       "    </tr>\n",
       "    <tr>\n",
       "      <th>5935</th>\n",
       "      <td>46000.0</td>\n",
       "      <td>41985.560376</td>\n",
       "    </tr>\n",
       "    <tr>\n",
       "      <th>7047</th>\n",
       "      <td>66000.0</td>\n",
       "      <td>53085.957610</td>\n",
       "    </tr>\n",
       "    <tr>\n",
       "      <th>5329</th>\n",
       "      <td>44800.0</td>\n",
       "      <td>44205.639823</td>\n",
       "    </tr>\n",
       "    <tr>\n",
       "      <th>528</th>\n",
       "      <td>26200.0</td>\n",
       "      <td>37545.401482</td>\n",
       "    </tr>\n",
       "    <tr>\n",
       "      <th>1367</th>\n",
       "      <td>63500.0</td>\n",
       "      <td>60486.222433</td>\n",
       "    </tr>\n",
       "    <tr>\n",
       "      <th>6913</th>\n",
       "      <td>35000.0</td>\n",
       "      <td>50125.851681</td>\n",
       "    </tr>\n",
       "  </tbody>\n",
       "</table>\n",
       "</div>"
      ],
      "text/plain": [
       "          true     predicted\n",
       "2984   68000.0  50125.851681\n",
       "3897  160000.0  84167.069865\n",
       "4193   35000.0  36805.375000\n",
       "291    38000.0  38285.427965\n",
       "5935   46000.0  41985.560376\n",
       "7047   66000.0  53085.957610\n",
       "5329   44800.0  44205.639823\n",
       "528    26200.0  37545.401482\n",
       "1367   63500.0  60486.222433\n",
       "6913   35000.0  50125.851681"
      ]
     },
     "execution_count": 139,
     "metadata": {},
     "output_type": "execute_result"
    }
   ],
   "source": [
    "metric = pd.DataFrame({'true': y_test, 'predicted': labels})\n",
    "\n",
    "metric"
   ]
  },
  {
   "cell_type": "code",
   "execution_count": 140,
   "id": "d65b7ce8",
   "metadata": {},
   "outputs": [
    {
     "data": {
      "text/plain": [
       "14280.575434010598"
      ]
     },
     "execution_count": 140,
     "metadata": {},
     "output_type": "execute_result"
    }
   ],
   "source": [
    "metric['h(x^i)-y^i'] = metric['true'] - metric['predicted']\n",
    "\n",
    "mae = np.abs(metric['h(x^i)-y^i']).sum() / metric['h(x^i)-y^i'].count()\n",
    "\n",
    "mae"
   ]
  },
  {
   "cell_type": "code",
   "execution_count": 141,
   "id": "34e2c803",
   "metadata": {},
   "outputs": [
    {
     "data": {
      "text/plain": [
       "25735.75951551403"
      ]
     },
     "execution_count": 141,
     "metadata": {},
     "output_type": "execute_result"
    }
   ],
   "source": [
    "rmse = metric['h(x^i)-y^i'] ** 2\n",
    "\n",
    "rmse = rmse.sum() / rmse.count()\n",
    "rmse = np.sqrt(rmse)\n",
    "rmse"
   ]
  },
  {
   "cell_type": "markdown",
   "id": "67ee9af4",
   "metadata": {},
   "source": [
    "# SimpleRegression"
   ]
  },
  {
   "cell_type": "code",
   "execution_count": 142,
   "id": "8f0d5ffb",
   "metadata": {},
   "outputs": [],
   "source": [
    "from sklearn.linear_model import LinearRegression\n",
    "\n",
    "lr_model = LinearRegression()"
   ]
  },
  {
   "cell_type": "code",
   "execution_count": 143,
   "id": "4da3229b",
   "metadata": {},
   "outputs": [],
   "source": [
    "X = df[['size']]\n",
    "y = df['price']"
   ]
  },
  {
   "cell_type": "code",
   "execution_count": 144,
   "id": "5acac287",
   "metadata": {},
   "outputs": [],
   "source": [
    "from sklearn.model_selection import train_test_split\n",
    "\n",
    "X_train, X_test = train_test_split(X, test_size=0.2, random_state=42)"
   ]
  },
  {
   "cell_type": "code",
   "execution_count": 145,
   "id": "e12fc8f4",
   "metadata": {},
   "outputs": [],
   "source": [
    "y_train = y.loc[X_train.index]\n",
    "y_test = y.loc[X_test.index]"
   ]
  },
  {
   "cell_type": "code",
   "execution_count": 146,
   "id": "78dcb4c4",
   "metadata": {},
   "outputs": [
    {
     "data": {
      "text/html": [
       "<style>#sk-container-id-4 {\n",
       "  /* Definition of color scheme common for light and dark mode */\n",
       "  --sklearn-color-text: black;\n",
       "  --sklearn-color-line: gray;\n",
       "  /* Definition of color scheme for unfitted estimators */\n",
       "  --sklearn-color-unfitted-level-0: #fff5e6;\n",
       "  --sklearn-color-unfitted-level-1: #f6e4d2;\n",
       "  --sklearn-color-unfitted-level-2: #ffe0b3;\n",
       "  --sklearn-color-unfitted-level-3: chocolate;\n",
       "  /* Definition of color scheme for fitted estimators */\n",
       "  --sklearn-color-fitted-level-0: #f0f8ff;\n",
       "  --sklearn-color-fitted-level-1: #d4ebff;\n",
       "  --sklearn-color-fitted-level-2: #b3dbfd;\n",
       "  --sklearn-color-fitted-level-3: cornflowerblue;\n",
       "\n",
       "  /* Specific color for light theme */\n",
       "  --sklearn-color-text-on-default-background: var(--sg-text-color, var(--theme-code-foreground, var(--jp-content-font-color1, black)));\n",
       "  --sklearn-color-background: var(--sg-background-color, var(--theme-background, var(--jp-layout-color0, white)));\n",
       "  --sklearn-color-border-box: var(--sg-text-color, var(--theme-code-foreground, var(--jp-content-font-color1, black)));\n",
       "  --sklearn-color-icon: #696969;\n",
       "\n",
       "  @media (prefers-color-scheme: dark) {\n",
       "    /* Redefinition of color scheme for dark theme */\n",
       "    --sklearn-color-text-on-default-background: var(--sg-text-color, var(--theme-code-foreground, var(--jp-content-font-color1, white)));\n",
       "    --sklearn-color-background: var(--sg-background-color, var(--theme-background, var(--jp-layout-color0, #111)));\n",
       "    --sklearn-color-border-box: var(--sg-text-color, var(--theme-code-foreground, var(--jp-content-font-color1, white)));\n",
       "    --sklearn-color-icon: #878787;\n",
       "  }\n",
       "}\n",
       "\n",
       "#sk-container-id-4 {\n",
       "  color: var(--sklearn-color-text);\n",
       "}\n",
       "\n",
       "#sk-container-id-4 pre {\n",
       "  padding: 0;\n",
       "}\n",
       "\n",
       "#sk-container-id-4 input.sk-hidden--visually {\n",
       "  border: 0;\n",
       "  clip: rect(1px 1px 1px 1px);\n",
       "  clip: rect(1px, 1px, 1px, 1px);\n",
       "  height: 1px;\n",
       "  margin: -1px;\n",
       "  overflow: hidden;\n",
       "  padding: 0;\n",
       "  position: absolute;\n",
       "  width: 1px;\n",
       "}\n",
       "\n",
       "#sk-container-id-4 div.sk-dashed-wrapped {\n",
       "  border: 1px dashed var(--sklearn-color-line);\n",
       "  margin: 0 0.4em 0.5em 0.4em;\n",
       "  box-sizing: border-box;\n",
       "  padding-bottom: 0.4em;\n",
       "  background-color: var(--sklearn-color-background);\n",
       "}\n",
       "\n",
       "#sk-container-id-4 div.sk-container {\n",
       "  /* jupyter's `normalize.less` sets `[hidden] { display: none; }`\n",
       "     but bootstrap.min.css set `[hidden] { display: none !important; }`\n",
       "     so we also need the `!important` here to be able to override the\n",
       "     default hidden behavior on the sphinx rendered scikit-learn.org.\n",
       "     See: https://github.com/scikit-learn/scikit-learn/issues/21755 */\n",
       "  display: inline-block !important;\n",
       "  position: relative;\n",
       "}\n",
       "\n",
       "#sk-container-id-4 div.sk-text-repr-fallback {\n",
       "  display: none;\n",
       "}\n",
       "\n",
       "div.sk-parallel-item,\n",
       "div.sk-serial,\n",
       "div.sk-item {\n",
       "  /* draw centered vertical line to link estimators */\n",
       "  background-image: linear-gradient(var(--sklearn-color-text-on-default-background), var(--sklearn-color-text-on-default-background));\n",
       "  background-size: 2px 100%;\n",
       "  background-repeat: no-repeat;\n",
       "  background-position: center center;\n",
       "}\n",
       "\n",
       "/* Parallel-specific style estimator block */\n",
       "\n",
       "#sk-container-id-4 div.sk-parallel-item::after {\n",
       "  content: \"\";\n",
       "  width: 100%;\n",
       "  border-bottom: 2px solid var(--sklearn-color-text-on-default-background);\n",
       "  flex-grow: 1;\n",
       "}\n",
       "\n",
       "#sk-container-id-4 div.sk-parallel {\n",
       "  display: flex;\n",
       "  align-items: stretch;\n",
       "  justify-content: center;\n",
       "  background-color: var(--sklearn-color-background);\n",
       "  position: relative;\n",
       "}\n",
       "\n",
       "#sk-container-id-4 div.sk-parallel-item {\n",
       "  display: flex;\n",
       "  flex-direction: column;\n",
       "}\n",
       "\n",
       "#sk-container-id-4 div.sk-parallel-item:first-child::after {\n",
       "  align-self: flex-end;\n",
       "  width: 50%;\n",
       "}\n",
       "\n",
       "#sk-container-id-4 div.sk-parallel-item:last-child::after {\n",
       "  align-self: flex-start;\n",
       "  width: 50%;\n",
       "}\n",
       "\n",
       "#sk-container-id-4 div.sk-parallel-item:only-child::after {\n",
       "  width: 0;\n",
       "}\n",
       "\n",
       "/* Serial-specific style estimator block */\n",
       "\n",
       "#sk-container-id-4 div.sk-serial {\n",
       "  display: flex;\n",
       "  flex-direction: column;\n",
       "  align-items: center;\n",
       "  background-color: var(--sklearn-color-background);\n",
       "  padding-right: 1em;\n",
       "  padding-left: 1em;\n",
       "}\n",
       "\n",
       "\n",
       "/* Toggleable style: style used for estimator/Pipeline/ColumnTransformer box that is\n",
       "clickable and can be expanded/collapsed.\n",
       "- Pipeline and ColumnTransformer use this feature and define the default style\n",
       "- Estimators will overwrite some part of the style using the `sk-estimator` class\n",
       "*/\n",
       "\n",
       "/* Pipeline and ColumnTransformer style (default) */\n",
       "\n",
       "#sk-container-id-4 div.sk-toggleable {\n",
       "  /* Default theme specific background. It is overwritten whether we have a\n",
       "  specific estimator or a Pipeline/ColumnTransformer */\n",
       "  background-color: var(--sklearn-color-background);\n",
       "}\n",
       "\n",
       "/* Toggleable label */\n",
       "#sk-container-id-4 label.sk-toggleable__label {\n",
       "  cursor: pointer;\n",
       "  display: block;\n",
       "  width: 100%;\n",
       "  margin-bottom: 0;\n",
       "  padding: 0.5em;\n",
       "  box-sizing: border-box;\n",
       "  text-align: center;\n",
       "}\n",
       "\n",
       "#sk-container-id-4 label.sk-toggleable__label-arrow:before {\n",
       "  /* Arrow on the left of the label */\n",
       "  content: \"▸\";\n",
       "  float: left;\n",
       "  margin-right: 0.25em;\n",
       "  color: var(--sklearn-color-icon);\n",
       "}\n",
       "\n",
       "#sk-container-id-4 label.sk-toggleable__label-arrow:hover:before {\n",
       "  color: var(--sklearn-color-text);\n",
       "}\n",
       "\n",
       "/* Toggleable content - dropdown */\n",
       "\n",
       "#sk-container-id-4 div.sk-toggleable__content {\n",
       "  max-height: 0;\n",
       "  max-width: 0;\n",
       "  overflow: hidden;\n",
       "  text-align: left;\n",
       "  /* unfitted */\n",
       "  background-color: var(--sklearn-color-unfitted-level-0);\n",
       "}\n",
       "\n",
       "#sk-container-id-4 div.sk-toggleable__content.fitted {\n",
       "  /* fitted */\n",
       "  background-color: var(--sklearn-color-fitted-level-0);\n",
       "}\n",
       "\n",
       "#sk-container-id-4 div.sk-toggleable__content pre {\n",
       "  margin: 0.2em;\n",
       "  border-radius: 0.25em;\n",
       "  color: var(--sklearn-color-text);\n",
       "  /* unfitted */\n",
       "  background-color: var(--sklearn-color-unfitted-level-0);\n",
       "}\n",
       "\n",
       "#sk-container-id-4 div.sk-toggleable__content.fitted pre {\n",
       "  /* unfitted */\n",
       "  background-color: var(--sklearn-color-fitted-level-0);\n",
       "}\n",
       "\n",
       "#sk-container-id-4 input.sk-toggleable__control:checked~div.sk-toggleable__content {\n",
       "  /* Expand drop-down */\n",
       "  max-height: 200px;\n",
       "  max-width: 100%;\n",
       "  overflow: auto;\n",
       "}\n",
       "\n",
       "#sk-container-id-4 input.sk-toggleable__control:checked~label.sk-toggleable__label-arrow:before {\n",
       "  content: \"▾\";\n",
       "}\n",
       "\n",
       "/* Pipeline/ColumnTransformer-specific style */\n",
       "\n",
       "#sk-container-id-4 div.sk-label input.sk-toggleable__control:checked~label.sk-toggleable__label {\n",
       "  color: var(--sklearn-color-text);\n",
       "  background-color: var(--sklearn-color-unfitted-level-2);\n",
       "}\n",
       "\n",
       "#sk-container-id-4 div.sk-label.fitted input.sk-toggleable__control:checked~label.sk-toggleable__label {\n",
       "  background-color: var(--sklearn-color-fitted-level-2);\n",
       "}\n",
       "\n",
       "/* Estimator-specific style */\n",
       "\n",
       "/* Colorize estimator box */\n",
       "#sk-container-id-4 div.sk-estimator input.sk-toggleable__control:checked~label.sk-toggleable__label {\n",
       "  /* unfitted */\n",
       "  background-color: var(--sklearn-color-unfitted-level-2);\n",
       "}\n",
       "\n",
       "#sk-container-id-4 div.sk-estimator.fitted input.sk-toggleable__control:checked~label.sk-toggleable__label {\n",
       "  /* fitted */\n",
       "  background-color: var(--sklearn-color-fitted-level-2);\n",
       "}\n",
       "\n",
       "#sk-container-id-4 div.sk-label label.sk-toggleable__label,\n",
       "#sk-container-id-4 div.sk-label label {\n",
       "  /* The background is the default theme color */\n",
       "  color: var(--sklearn-color-text-on-default-background);\n",
       "}\n",
       "\n",
       "/* On hover, darken the color of the background */\n",
       "#sk-container-id-4 div.sk-label:hover label.sk-toggleable__label {\n",
       "  color: var(--sklearn-color-text);\n",
       "  background-color: var(--sklearn-color-unfitted-level-2);\n",
       "}\n",
       "\n",
       "/* Label box, darken color on hover, fitted */\n",
       "#sk-container-id-4 div.sk-label.fitted:hover label.sk-toggleable__label.fitted {\n",
       "  color: var(--sklearn-color-text);\n",
       "  background-color: var(--sklearn-color-fitted-level-2);\n",
       "}\n",
       "\n",
       "/* Estimator label */\n",
       "\n",
       "#sk-container-id-4 div.sk-label label {\n",
       "  font-family: monospace;\n",
       "  font-weight: bold;\n",
       "  display: inline-block;\n",
       "  line-height: 1.2em;\n",
       "}\n",
       "\n",
       "#sk-container-id-4 div.sk-label-container {\n",
       "  text-align: center;\n",
       "}\n",
       "\n",
       "/* Estimator-specific */\n",
       "#sk-container-id-4 div.sk-estimator {\n",
       "  font-family: monospace;\n",
       "  border: 1px dotted var(--sklearn-color-border-box);\n",
       "  border-radius: 0.25em;\n",
       "  box-sizing: border-box;\n",
       "  margin-bottom: 0.5em;\n",
       "  /* unfitted */\n",
       "  background-color: var(--sklearn-color-unfitted-level-0);\n",
       "}\n",
       "\n",
       "#sk-container-id-4 div.sk-estimator.fitted {\n",
       "  /* fitted */\n",
       "  background-color: var(--sklearn-color-fitted-level-0);\n",
       "}\n",
       "\n",
       "/* on hover */\n",
       "#sk-container-id-4 div.sk-estimator:hover {\n",
       "  /* unfitted */\n",
       "  background-color: var(--sklearn-color-unfitted-level-2);\n",
       "}\n",
       "\n",
       "#sk-container-id-4 div.sk-estimator.fitted:hover {\n",
       "  /* fitted */\n",
       "  background-color: var(--sklearn-color-fitted-level-2);\n",
       "}\n",
       "\n",
       "/* Specification for estimator info (e.g. \"i\" and \"?\") */\n",
       "\n",
       "/* Common style for \"i\" and \"?\" */\n",
       "\n",
       ".sk-estimator-doc-link,\n",
       "a:link.sk-estimator-doc-link,\n",
       "a:visited.sk-estimator-doc-link {\n",
       "  float: right;\n",
       "  font-size: smaller;\n",
       "  line-height: 1em;\n",
       "  font-family: monospace;\n",
       "  background-color: var(--sklearn-color-background);\n",
       "  border-radius: 1em;\n",
       "  height: 1em;\n",
       "  width: 1em;\n",
       "  text-decoration: none !important;\n",
       "  margin-left: 1ex;\n",
       "  /* unfitted */\n",
       "  border: var(--sklearn-color-unfitted-level-1) 1pt solid;\n",
       "  color: var(--sklearn-color-unfitted-level-1);\n",
       "}\n",
       "\n",
       ".sk-estimator-doc-link.fitted,\n",
       "a:link.sk-estimator-doc-link.fitted,\n",
       "a:visited.sk-estimator-doc-link.fitted {\n",
       "  /* fitted */\n",
       "  border: var(--sklearn-color-fitted-level-1) 1pt solid;\n",
       "  color: var(--sklearn-color-fitted-level-1);\n",
       "}\n",
       "\n",
       "/* On hover */\n",
       "div.sk-estimator:hover .sk-estimator-doc-link:hover,\n",
       ".sk-estimator-doc-link:hover,\n",
       "div.sk-label-container:hover .sk-estimator-doc-link:hover,\n",
       ".sk-estimator-doc-link:hover {\n",
       "  /* unfitted */\n",
       "  background-color: var(--sklearn-color-unfitted-level-3);\n",
       "  color: var(--sklearn-color-background);\n",
       "  text-decoration: none;\n",
       "}\n",
       "\n",
       "div.sk-estimator.fitted:hover .sk-estimator-doc-link.fitted:hover,\n",
       ".sk-estimator-doc-link.fitted:hover,\n",
       "div.sk-label-container:hover .sk-estimator-doc-link.fitted:hover,\n",
       ".sk-estimator-doc-link.fitted:hover {\n",
       "  /* fitted */\n",
       "  background-color: var(--sklearn-color-fitted-level-3);\n",
       "  color: var(--sklearn-color-background);\n",
       "  text-decoration: none;\n",
       "}\n",
       "\n",
       "/* Span, style for the box shown on hovering the info icon */\n",
       ".sk-estimator-doc-link span {\n",
       "  display: none;\n",
       "  z-index: 9999;\n",
       "  position: relative;\n",
       "  font-weight: normal;\n",
       "  right: .2ex;\n",
       "  padding: .5ex;\n",
       "  margin: .5ex;\n",
       "  width: min-content;\n",
       "  min-width: 20ex;\n",
       "  max-width: 50ex;\n",
       "  color: var(--sklearn-color-text);\n",
       "  box-shadow: 2pt 2pt 4pt #999;\n",
       "  /* unfitted */\n",
       "  background: var(--sklearn-color-unfitted-level-0);\n",
       "  border: .5pt solid var(--sklearn-color-unfitted-level-3);\n",
       "}\n",
       "\n",
       ".sk-estimator-doc-link.fitted span {\n",
       "  /* fitted */\n",
       "  background: var(--sklearn-color-fitted-level-0);\n",
       "  border: var(--sklearn-color-fitted-level-3);\n",
       "}\n",
       "\n",
       ".sk-estimator-doc-link:hover span {\n",
       "  display: block;\n",
       "}\n",
       "\n",
       "/* \"?\"-specific style due to the `<a>` HTML tag */\n",
       "\n",
       "#sk-container-id-4 a.estimator_doc_link {\n",
       "  float: right;\n",
       "  font-size: 1rem;\n",
       "  line-height: 1em;\n",
       "  font-family: monospace;\n",
       "  background-color: var(--sklearn-color-background);\n",
       "  border-radius: 1rem;\n",
       "  height: 1rem;\n",
       "  width: 1rem;\n",
       "  text-decoration: none;\n",
       "  /* unfitted */\n",
       "  color: var(--sklearn-color-unfitted-level-1);\n",
       "  border: var(--sklearn-color-unfitted-level-1) 1pt solid;\n",
       "}\n",
       "\n",
       "#sk-container-id-4 a.estimator_doc_link.fitted {\n",
       "  /* fitted */\n",
       "  border: var(--sklearn-color-fitted-level-1) 1pt solid;\n",
       "  color: var(--sklearn-color-fitted-level-1);\n",
       "}\n",
       "\n",
       "/* On hover */\n",
       "#sk-container-id-4 a.estimator_doc_link:hover {\n",
       "  /* unfitted */\n",
       "  background-color: var(--sklearn-color-unfitted-level-3);\n",
       "  color: var(--sklearn-color-background);\n",
       "  text-decoration: none;\n",
       "}\n",
       "\n",
       "#sk-container-id-4 a.estimator_doc_link.fitted:hover {\n",
       "  /* fitted */\n",
       "  background-color: var(--sklearn-color-fitted-level-3);\n",
       "}\n",
       "</style><div id=\"sk-container-id-4\" class=\"sk-top-container\"><div class=\"sk-text-repr-fallback\"><pre>LinearRegression()</pre><b>In a Jupyter environment, please rerun this cell to show the HTML representation or trust the notebook. <br />On GitHub, the HTML representation is unable to render, please try loading this page with nbviewer.org.</b></div><div class=\"sk-container\" hidden><div class=\"sk-item\"><div class=\"sk-estimator fitted sk-toggleable\"><input class=\"sk-toggleable__control sk-hidden--visually\" id=\"sk-estimator-id-4\" type=\"checkbox\" checked><label for=\"sk-estimator-id-4\" class=\"sk-toggleable__label fitted sk-toggleable__label-arrow fitted\">&nbsp;&nbsp;LinearRegression<a class=\"sk-estimator-doc-link fitted\" rel=\"noreferrer\" target=\"_blank\" href=\"https://scikit-learn.org/1.5/modules/generated/sklearn.linear_model.LinearRegression.html\">?<span>Documentation for LinearRegression</span></a><span class=\"sk-estimator-doc-link fitted\">i<span>Fitted</span></span></label><div class=\"sk-toggleable__content fitted\"><pre>LinearRegression()</pre></div> </div></div></div></div>"
      ],
      "text/plain": [
       "LinearRegression()"
      ]
     },
     "execution_count": 146,
     "metadata": {},
     "output_type": "execute_result"
    }
   ],
   "source": [
    "lr_model.fit(X_train.to_numpy(), y_train.to_numpy())"
   ]
  },
  {
   "cell_type": "code",
   "execution_count": 147,
   "id": "9bf0061b",
   "metadata": {},
   "outputs": [
    {
     "name": "stdout",
     "output_type": "stream",
     "text": [
      "Theta 1:  797.7600812318595\n"
     ]
    }
   ],
   "source": [
    "theta1 = lr_model.coef_[0]\n",
    "\n",
    "print('Theta 1: ', theta1)"
   ]
  },
  {
   "cell_type": "code",
   "execution_count": 148,
   "id": "ba62cd2b",
   "metadata": {},
   "outputs": [
    {
     "name": "stdout",
     "output_type": "stream",
     "text": [
      "Theta 0:  -2010.5609497361438\n"
     ]
    }
   ],
   "source": [
    "theta0 = lr_model.intercept_\n",
    "\n",
    "print('Theta 0: ', theta0)"
   ]
  },
  {
   "cell_type": "code",
   "execution_count": 149,
   "id": "1e72e8c0",
   "metadata": {},
   "outputs": [
    {
     "data": {
      "image/png": "[encoded data removed]",
      "text/plain": [
       "<Figure size 640x480 with 1 Axes>"
      ]
     },
     "metadata": {},
     "output_type": "display_data"
    }
   ],
   "source": [
    "sns.scatterplot(data=df, x='size', y='price')\n",
    "sns.lineplot(x=df['size'], y=theta1*df['size']+theta0, color='red')\n",
    "\n",
    "plt.show()"
   ]
  },
  {
   "cell_type": "code",
   "execution_count": 150,
   "id": "582fc914",
   "metadata": {},
   "outputs": [
    {
     "data": {
      "text/plain": [
       "array([39472.96327432, 76169.92701099, 31495.362462  , ...,\n",
       "       57821.44514265, 39472.96327432, 47450.56408664])"
      ]
     },
     "execution_count": 150,
     "metadata": {},
     "output_type": "execute_result"
    }
   ],
   "source": [
    "y_test_predicted = lr_model.predict(X_test.to_numpy())\n",
    "\n",
    "y_test_predicted"
   ]
  },
  {
   "cell_type": "code",
   "execution_count": 154,
   "id": "fe70103a",
   "metadata": {},
   "outputs": [
    {
     "name": "stdout",
     "output_type": "stream",
     "text": [
      "RMSE:  18185.08796554313\n"
     ]
    }
   ],
   "source": [
    "from sklearn.metrics import mean_squared_error, mean_absolute_error\n",
    "\n",
    "rmse = mean_squared_error(y_test, y_test_predicted)\n",
    "print('RMSE: ', np.sqrt(rmse))"
   ]
  },
  {
   "cell_type": "code",
   "execution_count": 153,
   "id": "13ddcdb6",
   "metadata": {},
   "outputs": [
    {
     "name": "stdout",
     "output_type": "stream",
     "text": [
      "MAE:  12314.311243983144\n"
     ]
    }
   ],
   "source": [
    "mae = mean_absolute_error(y_test, y_test_predicted)\n",
    "\n",
    "print('MAE: ', mae)"
   ]
  }
 ],
 "metadata": {
  "kernelspec": {
   "display_name": ".venv",
   "language": "python",
   "name": "python3"
  },
  "language_info": {
   "codemirror_mode": {
    "name": "ipython",
    "version": 3
   },
   "file_extension": ".py",
   "mimetype": "text/x-python",
   "name": "python",
   "nbconvert_exporter": "python",
   "pygments_lexer": "ipython3",
   "version": "3.12.3"
  }
 },
 "nbformat": 4,
 "nbformat_minor": 5
}
