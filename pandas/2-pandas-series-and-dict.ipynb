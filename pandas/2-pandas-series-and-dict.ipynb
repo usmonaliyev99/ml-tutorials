{
 "cells": [
  {
   "cell_type": "code",
   "execution_count": 3,
   "metadata": {},
   "outputs": [],
   "source": [
    "import pandas as pd"
   ]
  },
  {
   "cell_type": "code",
   "execution_count": 4,
   "metadata": {},
   "outputs": [
    {
     "data": {
      "text/plain": [
       "tico        4300\n",
       "nexia       6400\n",
       "spark       7300\n",
       "colbalt    11200\n",
       "gentra     12300\n",
       "malibu     23000\n",
       "dtype: int64"
      ]
     },
     "execution_count": 4,
     "metadata": {},
     "output_type": "execute_result"
    }
   ],
   "source": [
    "cars = {\n",
    "    'tico': 4300,\n",
    "    'nexia': 6400,\n",
    "    'spark': 7300,\n",
    "    'colbalt': 11200,\n",
    "    'gentra': 12300,\n",
    "    'malibu': 23000,\n",
    "}\n",
    "\n",
    "car_series = pd.Series(cars)\n",
    "\n",
    "car_series"
   ]
  },
  {
   "cell_type": "code",
   "execution_count": 5,
   "metadata": {},
   "outputs": [
    {
     "data": {
      "text/plain": [
       "True"
      ]
     },
     "execution_count": 5,
     "metadata": {},
     "output_type": "execute_result"
    }
   ],
   "source": [
    "# We can use \"in\" operator\n",
    "\n",
    "'spark'  in car_series"
   ]
  },
  {
   "cell_type": "code",
   "execution_count": 6,
   "metadata": {},
   "outputs": [
    {
     "data": {
      "text/plain": [
       "False"
      ]
     },
     "execution_count": 6,
     "metadata": {},
     "output_type": "execute_result"
    }
   ],
   "source": [
    "'BMW' in car_series"
   ]
  },
  {
   "cell_type": "code",
   "execution_count": 7,
   "metadata": {},
   "outputs": [
    {
     "data": {
      "text/plain": [
       "4300"
      ]
     },
     "execution_count": 7,
     "metadata": {},
     "output_type": "execute_result"
    }
   ],
   "source": [
    "car_series['tico']"
   ]
  },
  {
   "cell_type": "code",
   "execution_count": 12,
   "metadata": {},
   "outputs": [
    {
     "data": {
      "text/plain": [
       "BMW             NaN\n",
       "Mersades        NaN\n",
       "colbalt     11200.0\n",
       "gentra      12300.0\n",
       "malibu      23000.0\n",
       "nexia        6400.0\n",
       "spark        7300.0\n",
       "tico         4300.0\n",
       "dtype: float64"
      ]
     },
     "execution_count": 12,
     "metadata": {},
     "output_type": "execute_result"
    }
   ],
   "source": [
    "models = list(cars.keys())\n",
    "\n",
    "models.append('BMW')\n",
    "models.append('Mersades')\n",
    "\n",
    "models.sort()\n",
    "\n",
    "car2_series = pd.Series(cars, index=models)\n",
    "\n",
    "car2_series"
   ]
  }
 ],
 "metadata": {
  "kernelspec": {
   "display_name": ".venv",
   "language": "python",
   "name": "python3"
  },
  "language_info": {
   "codemirror_mode": {
    "name": "ipython",
    "version": 3
   },
   "file_extension": ".py",
   "mimetype": "text/x-python",
   "name": "python",
   "nbconvert_exporter": "python",
   "pygments_lexer": "ipython3",
   "version": "3.9.18"
  }
 },
 "nbformat": 4,
 "nbformat_minor": 2
}
