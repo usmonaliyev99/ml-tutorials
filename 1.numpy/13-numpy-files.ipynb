{
 "cells": [
  {
   "cell_type": "code",
   "execution_count": 1,
   "metadata": {},
   "outputs": [],
   "source": [
    "# Let's import numpy\n",
    "\n",
    "import numpy as np"
   ]
  },
  {
   "cell_type": "code",
   "execution_count": 2,
   "metadata": {},
   "outputs": [
    {
     "data": {
      "text/plain": [
       "array([[53, 26, 91, 53, 60, 73, 83, 31],\n",
       "       [27, 58, 56, 57, 26, 58, 45, 11],\n",
       "       [27, 69, 35, 70,  2, 90, 46, 89],\n",
       "       [20,  1, 58, 56, 71, 16,  9, 17],\n",
       "       [90, 55, 48, 84, 34, 54,  7,  4],\n",
       "       [44, 63, 82, 15, 52, 62,  8, 63],\n",
       "       [15, 21, 75, 76, 50, 16,  6, 39],\n",
       "       [47, 92, 77,  7, 83, 28, 83, 69]])"
      ]
     },
     "execution_count": 2,
     "metadata": {},
     "output_type": "execute_result"
    }
   ],
   "source": [
    "numbers = np.random.randint(low=1, high=99, size=(8, 8))\n",
    "numbers"
   ]
  },
  {
   "cell_type": "code",
   "execution_count": 3,
   "metadata": {},
   "outputs": [],
   "source": [
    "np.save('random_numbers.npy', numbers)"
   ]
  },
  {
   "cell_type": "code",
   "execution_count": 4,
   "metadata": {},
   "outputs": [
    {
     "data": {
      "text/plain": [
       "array([[53, 26, 91, 53, 60, 73, 83, 31],\n",
       "       [27, 58, 56, 57, 26, 58, 45, 11],\n",
       "       [27, 69, 35, 70,  2, 90, 46, 89],\n",
       "       [20,  1, 58, 56, 71, 16,  9, 17],\n",
       "       [90, 55, 48, 84, 34, 54,  7,  4],\n",
       "       [44, 63, 82, 15, 52, 62,  8, 63],\n",
       "       [15, 21, 75, 76, 50, 16,  6, 39],\n",
       "       [47, 92, 77,  7, 83, 28, 83, 69]])"
      ]
     },
     "execution_count": 4,
     "metadata": {},
     "output_type": "execute_result"
    }
   ],
   "source": [
    "random_numbers = np.load('random_numbers.npy')\n",
    "random_numbers"
   ]
  },
  {
   "cell_type": "code",
   "execution_count": 5,
   "metadata": {},
   "outputs": [
    {
     "data": {
      "text/plain": [
       "array([[0.11725472, 0.01236277, 0.83524528, 0.30447734, 0.35021647,\n",
       "        0.52900716, 0.89805174, 0.95932049, 0.1823318 ],\n",
       "       [0.64171136, 0.77360375, 0.68837805, 0.95315245, 0.51928127,\n",
       "        0.32488907, 0.97015454, 0.89931497, 0.38263029],\n",
       "       [0.03711058, 0.46143779, 0.88389168, 0.57767892, 0.9103957 ,\n",
       "        0.44245109, 0.44306885, 0.24924697, 0.23804846],\n",
       "       [0.51303044, 0.54593037, 0.68637858, 0.29929049, 0.39048233,\n",
       "        0.15166068, 0.40047028, 0.80480043, 0.94733714]])"
      ]
     },
     "execution_count": 5,
     "metadata": {},
     "output_type": "execute_result"
    }
   ],
   "source": [
    "s_numbers = np.random.rand(4, 9)\n",
    "s_numbers"
   ]
  },
  {
   "cell_type": "code",
   "execution_count": 6,
   "metadata": {},
   "outputs": [],
   "source": [
    "# Let's use savez function\n",
    "\n",
    "np.savez('merged_numbers', first=numbers, second=s_numbers)"
   ]
  },
  {
   "cell_type": "code",
   "execution_count": 8,
   "metadata": {},
   "outputs": [
    {
     "data": {
      "text/plain": [
       "array([[53, 26, 91, 53, 60, 73, 83, 31],\n",
       "       [27, 58, 56, 57, 26, 58, 45, 11],\n",
       "       [27, 69, 35, 70,  2, 90, 46, 89],\n",
       "       [20,  1, 58, 56, 71, 16,  9, 17],\n",
       "       [90, 55, 48, 84, 34, 54,  7,  4],\n",
       "       [44, 63, 82, 15, 52, 62,  8, 63],\n",
       "       [15, 21, 75, 76, 50, 16,  6, 39],\n",
       "       [47, 92, 77,  7, 83, 28, 83, 69]])"
      ]
     },
     "execution_count": 8,
     "metadata": {},
     "output_type": "execute_result"
    }
   ],
   "source": [
    "merged_numbers = np.load('merged_numbers.npz')\n",
    "\n",
    "merged_numbers['first']"
   ]
  },
  {
   "cell_type": "code",
   "execution_count": 9,
   "metadata": {},
   "outputs": [
    {
     "data": {
      "text/plain": [
       "array([[0.11725472, 0.01236277, 0.83524528, 0.30447734, 0.35021647,\n",
       "        0.52900716, 0.89805174, 0.95932049, 0.1823318 ],\n",
       "       [0.64171136, 0.77360375, 0.68837805, 0.95315245, 0.51928127,\n",
       "        0.32488907, 0.97015454, 0.89931497, 0.38263029],\n",
       "       [0.03711058, 0.46143779, 0.88389168, 0.57767892, 0.9103957 ,\n",
       "        0.44245109, 0.44306885, 0.24924697, 0.23804846],\n",
       "       [0.51303044, 0.54593037, 0.68637858, 0.29929049, 0.39048233,\n",
       "        0.15166068, 0.40047028, 0.80480043, 0.94733714]])"
      ]
     },
     "execution_count": 9,
     "metadata": {},
     "output_type": "execute_result"
    }
   ],
   "source": [
    "merged_numbers['second']"
   ]
  },
  {
   "cell_type": "code",
   "execution_count": 11,
   "metadata": {},
   "outputs": [],
   "source": [
    "# Let's use savez_compressed\n",
    "\n",
    "np.savez_compressed('compresed_numbers.npz', first=numbers, second=s_numbers)"
   ]
  },
  {
   "cell_type": "code",
   "execution_count": 12,
   "metadata": {},
   "outputs": [
    {
     "data": {
      "text/plain": [
       "array([[53, 26, 91, 53, 60, 73, 83, 31],\n",
       "       [27, 58, 56, 57, 26, 58, 45, 11],\n",
       "       [27, 69, 35, 70,  2, 90, 46, 89],\n",
       "       [20,  1, 58, 56, 71, 16,  9, 17],\n",
       "       [90, 55, 48, 84, 34, 54,  7,  4],\n",
       "       [44, 63, 82, 15, 52, 62,  8, 63],\n",
       "       [15, 21, 75, 76, 50, 16,  6, 39],\n",
       "       [47, 92, 77,  7, 83, 28, 83, 69]])"
      ]
     },
     "execution_count": 12,
     "metadata": {},
     "output_type": "execute_result"
    }
   ],
   "source": [
    "compressed_numbers = np.load('compresed_numbers.npz')\n",
    "\n",
    "compressed_numbers['first']"
   ]
  },
  {
   "cell_type": "code",
   "execution_count": 13,
   "metadata": {},
   "outputs": [
    {
     "data": {
      "text/plain": [
       "array([[0.11725472, 0.01236277, 0.83524528, 0.30447734, 0.35021647,\n",
       "        0.52900716, 0.89805174, 0.95932049, 0.1823318 ],\n",
       "       [0.64171136, 0.77360375, 0.68837805, 0.95315245, 0.51928127,\n",
       "        0.32488907, 0.97015454, 0.89931497, 0.38263029],\n",
       "       [0.03711058, 0.46143779, 0.88389168, 0.57767892, 0.9103957 ,\n",
       "        0.44245109, 0.44306885, 0.24924697, 0.23804846],\n",
       "       [0.51303044, 0.54593037, 0.68637858, 0.29929049, 0.39048233,\n",
       "        0.15166068, 0.40047028, 0.80480043, 0.94733714]])"
      ]
     },
     "execution_count": 13,
     "metadata": {},
     "output_type": "execute_result"
    }
   ],
   "source": [
    "compressed_numbers['second']"
   ]
  }
 ],
 "metadata": {
  "kernelspec": {
   "display_name": ".venv",
   "language": "python",
   "name": "python3"
  },
  "language_info": {
   "codemirror_mode": {
    "name": "ipython",
    "version": 3
   },
   "file_extension": ".py",
   "mimetype": "text/x-python",
   "name": "python",
   "nbconvert_exporter": "python",
   "pygments_lexer": "ipython3",
   "version": "3.9.18"
  }
 },
 "nbformat": 4,
 "nbformat_minor": 2
}
