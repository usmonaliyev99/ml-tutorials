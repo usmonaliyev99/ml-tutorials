{
 "cells": [
  {
   "cell_type": "code",
   "execution_count": 14,
   "metadata": {},
   "outputs": [],
   "source": [
    "# Let's import numpy\n",
    "\n",
    "import numpy as np"
   ]
  },
  {
   "cell_type": "code",
   "execution_count": 15,
   "metadata": {},
   "outputs": [],
   "source": [
    "# Let's create two array\n",
    "\n",
    "yes_numbers = np.array([1.1, 1.2, 1.3, 1.4, 1.5])\n",
    "no_numbers = np.array([2.1, 2.2, 3.3, 4.4, 5.5])"
   ]
  },
  {
   "cell_type": "code",
   "execution_count": 16,
   "metadata": {},
   "outputs": [
    {
     "data": {
      "text/plain": [
       "array([1.1, 2.2, 3.3, 1.4, 5.5])"
      ]
     },
     "execution_count": 16,
     "metadata": {},
     "output_type": "execute_result"
    }
   ],
   "source": [
    "# Let's use where function\n",
    "\n",
    "condition = np.array([True, False, False, True, False])\n",
    "\n",
    "result = np.where(condition, yes_numbers, no_numbers)\n",
    "result"
   ]
  },
  {
   "cell_type": "code",
   "execution_count": 17,
   "metadata": {},
   "outputs": [
    {
     "data": {
      "text/plain": [
       "array([[ 0.56672361, -0.94726314,  0.63596632, -1.77515465],\n",
       "       [ 0.34399381, -0.63215449, -0.64386631,  0.20810766],\n",
       "       [-0.61582834, -1.40938828,  0.24945261, -1.05669456],\n",
       "       [ 0.26424838,  0.25830736,  0.83446363, -0.88944477]])"
      ]
     },
     "execution_count": 17,
     "metadata": {},
     "output_type": "execute_result"
    }
   ],
   "source": [
    "# Let's work with dimensional array\n",
    "\n",
    "r_numbers = np.random.randn(4, 4)\n",
    "r_numbers"
   ]
  },
  {
   "cell_type": "code",
   "execution_count": 18,
   "metadata": {},
   "outputs": [
    {
     "data": {
      "text/plain": [
       "array([[56.67236098,  0.        , 63.59663163,  0.        ],\n",
       "       [34.39938051,  0.        ,  0.        , 20.81076603],\n",
       "       [ 0.        ,  0.        , 24.94526069,  0.        ],\n",
       "       [26.42483815, 25.8307362 , 83.44636329,  0.        ]])"
      ]
     },
     "execution_count": 18,
     "metadata": {},
     "output_type": "execute_result"
    }
   ],
   "source": [
    "# Now we can use where function\n",
    "\n",
    "np.where(r_numbers<0,0,r_numbers * 100)"
   ]
  }
 ],
 "metadata": {
  "kernelspec": {
   "display_name": ".venv",
   "language": "python",
   "name": "python3"
  },
  "language_info": {
   "codemirror_mode": {
    "name": "ipython",
    "version": 3
   },
   "file_extension": ".py",
   "mimetype": "text/x-python",
   "name": "python",
   "nbconvert_exporter": "python",
   "pygments_lexer": "ipython3",
   "version": "3.9.18"
  }
 },
 "nbformat": 4,
 "nbformat_minor": 2
}
