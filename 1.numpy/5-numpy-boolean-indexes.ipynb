{
 "cells": [
  {
   "cell_type": "code",
   "execution_count": 1,
   "metadata": {},
   "outputs": [],
   "source": [
    "# import numpy library\n",
    "\n",
    "import numpy as np"
   ]
  },
  {
   "cell_type": "code",
   "execution_count": 2,
   "metadata": {},
   "outputs": [
    {
     "data": {
      "text/plain": [
       "array([\"sh.turg'unov\", 'm.tadjimatov', 'y.valijonov', 'n.abdulqaxxorov',\n",
       "       'm.abdullayev', 'd.jabborov', \"a.jo'raboyev\", 'm.turgunova',\n",
       "       'n.akmalovna', 'a.mamajonov'], dtype='<U15')"
      ]
     },
     "execution_count": 2,
     "metadata": {},
     "output_type": "execute_result"
    }
   ],
   "source": [
    "users = np.array(\n",
    "    [\n",
    "        \"sh.turg'unov\",\n",
    "        \"m.tadjimatov\",\n",
    "        \"y.valijonov\",\n",
    "        \"n.abdulqaxxorov\",\n",
    "        \"m.abdullayev\",\n",
    "        \"d.jabborov\",\n",
    "        \"a.jo'raboyev\",\n",
    "        \"m.turgunova\",\n",
    "        \"n.akmalovna\",\n",
    "        \"a.mamajonov\",\n",
    "    ]\n",
    ")\n",
    "\n",
    "users"
   ]
  },
  {
   "cell_type": "code",
   "execution_count": 22,
   "metadata": {},
   "outputs": [
    {
     "data": {
      "text/plain": [
       "array([[ 1.27445785e+00,  1.39776515e+00, -1.25170708e-01,\n",
       "         1.10361034e+00,  1.22114949e+00,  2.41470202e+00,\n",
       "         1.05067834e+00],\n",
       "       [-1.38529175e+00, -4.95262801e-01, -5.73917349e-02,\n",
       "        -5.69687884e-01,  8.51235211e-01,  1.16170079e-01,\n",
       "        -3.90270404e-01],\n",
       "       [-2.15847169e-01,  2.19071370e+00,  1.30714131e+00,\n",
       "        -6.37589905e-01, -1.09228454e+00, -6.03640296e-01,\n",
       "        -3.72560937e-01],\n",
       "       [ 1.61071657e+00, -2.68840170e-01,  6.55271008e-01,\n",
       "         6.78212589e-01, -1.58764643e-01,  4.19377889e-01,\n",
       "         8.49247364e-01],\n",
       "       [ 8.04178767e-01, -6.02385118e-01,  6.58975614e-01,\n",
       "        -1.09747813e+00,  7.34351704e-01,  9.12626305e-01,\n",
       "         4.11066547e-01],\n",
       "       [-8.41541477e-01,  8.84130185e-01,  5.92715314e-01,\n",
       "         9.12930668e-01, -1.14455527e+00, -8.75640615e-01,\n",
       "        -1.23996821e+00],\n",
       "       [-2.29660380e+00, -1.44524796e+00,  3.42274607e-01,\n",
       "        -6.50726932e-01, -1.39431997e+00, -1.01121326e+00,\n",
       "         1.68099559e-01],\n",
       "       [ 8.62956164e-01, -1.30092152e+00,  8.11028089e-01,\n",
       "         6.71915496e-01,  8.05069942e-01,  2.87119653e-01,\n",
       "         3.66072195e-01],\n",
       "       [ 6.75090840e-01,  2.53388028e-02, -1.74816791e+00,\n",
       "         1.62632206e+00,  1.58570493e+00,  1.02134866e+00,\n",
       "        -5.05391044e-01],\n",
       "       [-1.89436282e+00, -4.61614320e-05,  3.07279970e-01,\n",
       "         1.68589765e+00, -4.83299796e-01,  2.57925016e-01,\n",
       "        -8.41293426e-01]])"
      ]
     },
     "execution_count": 22,
     "metadata": {},
     "output_type": "execute_result"
    }
   ],
   "source": [
    "statistics = np.random.randn(users.size, 7)\n",
    "\n",
    "statistics"
   ]
  },
  {
   "cell_type": "code",
   "execution_count": 23,
   "metadata": {},
   "outputs": [
    {
     "data": {
      "text/plain": [
       "array([False, False,  True, False, False, False, False, False, False,\n",
       "       False])"
      ]
     },
     "execution_count": 23,
     "metadata": {},
     "output_type": "execute_result"
    }
   ],
   "source": [
    "users == 'y.valijonov'"
   ]
  },
  {
   "cell_type": "code",
   "execution_count": 24,
   "metadata": {},
   "outputs": [
    {
     "data": {
      "text/plain": [
       "array([[-0.21584717,  2.1907137 ,  1.30714131, -0.6375899 , -1.09228454,\n",
       "        -0.6036403 , -0.37256094]])"
      ]
     },
     "execution_count": 24,
     "metadata": {},
     "output_type": "execute_result"
    }
   ],
   "source": [
    "statistics[users == 'y.valijonov']"
   ]
  },
  {
   "cell_type": "code",
   "execution_count": 25,
   "metadata": {},
   "outputs": [
    {
     "data": {
      "text/plain": [
       "array([[ 2.1907137 ,  1.30714131, -0.6375899 , -1.09228454, -0.6036403 ]])"
      ]
     },
     "execution_count": 25,
     "metadata": {},
     "output_type": "execute_result"
    }
   ],
   "source": [
    "statistics[users=='y.valijonov', 1:-1]"
   ]
  },
  {
   "cell_type": "code",
   "execution_count": 26,
   "metadata": {},
   "outputs": [
    {
     "data": {
      "text/plain": [
       "array([[-0.21584717,  2.1907137 ,  1.30714131, -0.6375899 , -1.09228454,\n",
       "        -0.6036403 , -0.37256094],\n",
       "       [-0.84154148,  0.88413019,  0.59271531,  0.91293067, -1.14455527,\n",
       "        -0.87564062, -1.23996821]])"
      ]
     },
     "execution_count": 26,
     "metadata": {},
     "output_type": "execute_result"
    }
   ],
   "source": [
    "mask = (users == 'y.valijonov') | (users == 'd.jabborov')\n",
    "\n",
    "statistics[mask]"
   ]
  },
  {
   "cell_type": "code",
   "execution_count": 27,
   "metadata": {},
   "outputs": [
    {
     "data": {
      "text/plain": [
       "array([[1.27445785, 1.39776515, 0.        , 1.10361034, 1.22114949,\n",
       "        2.41470202, 1.05067834],\n",
       "       [0.        , 0.        , 0.        , 0.        , 0.85123521,\n",
       "        0.11617008, 0.        ],\n",
       "       [0.        , 2.1907137 , 1.30714131, 0.        , 0.        ,\n",
       "        0.        , 0.        ],\n",
       "       [1.61071657, 0.        , 0.65527101, 0.67821259, 0.        ,\n",
       "        0.41937789, 0.84924736],\n",
       "       [0.80417877, 0.        , 0.65897561, 0.        , 0.7343517 ,\n",
       "        0.9126263 , 0.41106655],\n",
       "       [0.        , 0.88413019, 0.59271531, 0.91293067, 0.        ,\n",
       "        0.        , 0.        ],\n",
       "       [0.        , 0.        , 0.34227461, 0.        , 0.        ,\n",
       "        0.        , 0.16809956],\n",
       "       [0.86295616, 0.        , 0.81102809, 0.6719155 , 0.80506994,\n",
       "        0.28711965, 0.3660722 ],\n",
       "       [0.67509084, 0.0253388 , 0.        , 1.62632206, 1.58570493,\n",
       "        1.02134866, 0.        ],\n",
       "       [0.        , 0.        , 0.30727997, 1.68589765, 0.        ,\n",
       "        0.25792502, 0.        ]])"
      ]
     },
     "execution_count": 27,
     "metadata": {},
     "output_type": "execute_result"
    }
   ],
   "source": [
    "statistics[statistics < 0] = 0\n",
    "\n",
    "statistics"
   ]
  }
 ],
 "metadata": {
  "kernelspec": {
   "display_name": ".venv",
   "language": "python",
   "name": "python3"
  },
  "language_info": {
   "codemirror_mode": {
    "name": "ipython",
    "version": 3
   },
   "file_extension": ".py",
   "mimetype": "text/x-python",
   "name": "python",
   "nbconvert_exporter": "python",
   "pygments_lexer": "ipython3",
   "version": "3.9.18"
  }
 },
 "nbformat": 4,
 "nbformat_minor": 2
}
