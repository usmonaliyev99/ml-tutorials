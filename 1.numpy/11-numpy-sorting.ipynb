{
 "cells": [
  {
   "cell_type": "code",
   "execution_count": 40,
   "metadata": {},
   "outputs": [],
   "source": [
    "# Let's import numpy library\n",
    "\n",
    "import numpy as np"
   ]
  },
  {
   "cell_type": "code",
   "execution_count": 41,
   "metadata": {},
   "outputs": [
    {
     "data": {
      "text/plain": [
       "array([[88, 28, 88, 81, 37, 90, 44],\n",
       "       [54, 33, 66, 44, 89, 53, 49],\n",
       "       [34, 29, 49, 50, 58, 36, 42],\n",
       "       [45, 28, 57, 77, 43,  5, 97]])"
      ]
     },
     "execution_count": 41,
     "metadata": {},
     "output_type": "execute_result"
    }
   ],
   "source": [
    "numbers = np.random.randint(low=1, high=99, size=(4 ,7))\n",
    "\n",
    "numbers"
   ]
  },
  {
   "cell_type": "code",
   "execution_count": 42,
   "metadata": {},
   "outputs": [
    {
     "data": {
      "text/plain": [
       "array([[28, 37, 44, 81, 88, 88, 90],\n",
       "       [33, 44, 49, 53, 54, 66, 89],\n",
       "       [29, 34, 36, 42, 49, 50, 58],\n",
       "       [ 5, 28, 43, 45, 57, 77, 97]])"
      ]
     },
     "execution_count": 42,
     "metadata": {},
     "output_type": "execute_result"
    }
   ],
   "source": [
    "# Let's see sorted numbers\n",
    "\n",
    "numbers.sort() # default axis is 0\n",
    "numbers"
   ]
  },
  {
   "cell_type": "code",
   "execution_count": 43,
   "metadata": {},
   "outputs": [
    {
     "data": {
      "text/plain": [
       "array([[28, 37, 44, 81, 88, 88, 90],\n",
       "       [33, 44, 49, 53, 54, 66, 89],\n",
       "       [29, 34, 36, 42, 49, 50, 58],\n",
       "       [ 5, 28, 43, 45, 57, 77, 97]])"
      ]
     },
     "execution_count": 43,
     "metadata": {},
     "output_type": "execute_result"
    }
   ],
   "source": [
    "# Let's sort by axises\n",
    "\n",
    "numbers.sort(axis=1)\n",
    "numbers"
   ]
  },
  {
   "cell_type": "code",
   "execution_count": 45,
   "metadata": {},
   "outputs": [
    {
     "data": {
      "text/plain": [
       "array([[90, 88, 88, 81, 44, 37, 28],\n",
       "       [89, 66, 54, 53, 49, 44, 33],\n",
       "       [58, 50, 49, 42, 36, 34, 29],\n",
       "       [97, 77, 57, 45, 43, 28,  5]])"
      ]
     },
     "execution_count": 45,
     "metadata": {},
     "output_type": "execute_result"
    }
   ],
   "source": [
    "# Let's sort array by desc\n",
    "\n",
    "reversed_numbers = -np.sort(-numbers)\n",
    "reversed_numbers"
   ]
  }
 ],
 "metadata": {
  "kernelspec": {
   "display_name": ".venv",
   "language": "python",
   "name": "python3"
  },
  "language_info": {
   "codemirror_mode": {
    "name": "ipython",
    "version": 3
   },
   "file_extension": ".py",
   "mimetype": "text/x-python",
   "name": "python",
   "nbconvert_exporter": "python",
   "pygments_lexer": "ipython3",
   "version": "3.9.18"
  }
 },
 "nbformat": 4,
 "nbformat_minor": 2
}
