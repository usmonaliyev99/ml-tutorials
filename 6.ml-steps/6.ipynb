{
  "cells": [
    {
      "cell_type": "markdown",
      "metadata": {
        "id": "tgzC39RUcDLy"
      },
      "source": [
        "![Imgur](https://i.imgur.com/5pXzCIu.png)\n",
        "\n",
        "# Data Science va Sun'iy Intellekt Praktikum\n",
        "\n",
        "## 5-MODUL. Machine Learning\n",
        "\n",
        "### Portfolio uchun vazifa: Toshkent shahrida uylarning narxini aniqlash.\n",
        "\n",
        "Ushbu amaliyotda sizning vazifangiz berilgan ma`lumotlar asosida Toshkent shahridagi uylarning narxini aniqlash."
      ]
    },
    {
      "cell_type": "code",
      "execution_count": 95,
      "metadata": {
        "colab": {
          "base_uri": "https://localhost:8080/",
          "height": 206
        },
        "id": "ZNYzfPKab-o4",
        "outputId": "862f28fc-46a1-4bef-ca4d-0715d2dbf225"
      },
      "outputs": [
        {
          "data": {
            "text/html": [
              "<div>\n",
              "<style scoped>\n",
              "    .dataframe tbody tr th:only-of-type {\n",
              "        vertical-align: middle;\n",
              "    }\n",
              "\n",
              "    .dataframe tbody tr th {\n",
              "        vertical-align: top;\n",
              "    }\n",
              "\n",
              "    .dataframe thead th {\n",
              "        text-align: right;\n",
              "    }\n",
              "</style>\n",
              "<table border=\"1\" class=\"dataframe\">\n",
              "  <thead>\n",
              "    <tr style=\"text-align: right;\">\n",
              "      <th></th>\n",
              "      <th>location</th>\n",
              "      <th>district</th>\n",
              "      <th>rooms</th>\n",
              "      <th>size</th>\n",
              "      <th>level</th>\n",
              "      <th>max_levels</th>\n",
              "      <th>price</th>\n",
              "    </tr>\n",
              "  </thead>\n",
              "  <tbody>\n",
              "    <tr>\n",
              "      <th>0</th>\n",
              "      <td>город Ташкент, Юнусабадский район, Юнусабад 8-...</td>\n",
              "      <td>Юнусабадский</td>\n",
              "      <td>3</td>\n",
              "      <td>57</td>\n",
              "      <td>4</td>\n",
              "      <td>4</td>\n",
              "      <td>52000</td>\n",
              "    </tr>\n",
              "    <tr>\n",
              "      <th>1</th>\n",
              "      <td>город Ташкент, Яккасарайский район, 1-й тупик ...</td>\n",
              "      <td>Яккасарайский</td>\n",
              "      <td>2</td>\n",
              "      <td>52</td>\n",
              "      <td>4</td>\n",
              "      <td>5</td>\n",
              "      <td>56000</td>\n",
              "    </tr>\n",
              "    <tr>\n",
              "      <th>2</th>\n",
              "      <td>город Ташкент, Чиланзарский район, Чиланзар 2-...</td>\n",
              "      <td>Чиланзарский</td>\n",
              "      <td>2</td>\n",
              "      <td>42</td>\n",
              "      <td>4</td>\n",
              "      <td>4</td>\n",
              "      <td>37000</td>\n",
              "    </tr>\n",
              "    <tr>\n",
              "      <th>3</th>\n",
              "      <td>город Ташкент, Чиланзарский район, Чиланзар 9-...</td>\n",
              "      <td>Чиланзарский</td>\n",
              "      <td>3</td>\n",
              "      <td>65</td>\n",
              "      <td>1</td>\n",
              "      <td>4</td>\n",
              "      <td>49500</td>\n",
              "    </tr>\n",
              "    <tr>\n",
              "      <th>4</th>\n",
              "      <td>город Ташкент, Чиланзарский район, площадь Актепа</td>\n",
              "      <td>Чиланзарский</td>\n",
              "      <td>3</td>\n",
              "      <td>70</td>\n",
              "      <td>3</td>\n",
              "      <td>5</td>\n",
              "      <td>55000</td>\n",
              "    </tr>\n",
              "  </tbody>\n",
              "</table>\n",
              "</div>"
            ],
            "text/plain": [
              "                                            location       district  rooms  \\\n",
              "0  город Ташкент, Юнусабадский район, Юнусабад 8-...   Юнусабадский      3   \n",
              "1  город Ташкент, Яккасарайский район, 1-й тупик ...  Яккасарайский      2   \n",
              "2  город Ташкент, Чиланзарский район, Чиланзар 2-...   Чиланзарский      2   \n",
              "3  город Ташкент, Чиланзарский район, Чиланзар 9-...   Чиланзарский      3   \n",
              "4  город Ташкент, Чиланзарский район, площадь Актепа   Чиланзарский      3   \n",
              "\n",
              "  size  level  max_levels  price  \n",
              "0   57      4           4  52000  \n",
              "1   52      4           5  56000  \n",
              "2   42      4           4  37000  \n",
              "3   65      1           4  49500  \n",
              "4   70      3           5  55000  "
            ]
          },
          "execution_count": 95,
          "metadata": {},
          "output_type": "execute_result"
        }
      ],
      "source": [
        "import pandas as pd\n",
        "df = pd.read_csv('https://raw.githubusercontent.com/anvarnarz/praktikum_datasets/main/housing_data_08-02-2021.csv')\n",
        "df.head()"
      ]
    },
    {
      "cell_type": "markdown",
      "metadata": {
        "id": "A1wt67xRcPcB"
      },
      "source": [
        "# Ustunlar ta'rifi\n",
        "- `location` - sotilayotgan uy manzili\n",
        "- `district` - uy joylashgan tuman\n",
        "- `rooms` - xonalar soni\n",
        "- `size` - uy maydoni (kv.m)\n",
        "- `level` - uy joylashgan qavat\n",
        "- `max_levels` - ja'mi qavatlar soni\n",
        "- `price` - uy narxi\n",
        "\n",
        "## Vazifani CRSIP-DM Metolodgiyasi yordamida bajaring.\n",
        "<img src=\"https://i.imgur.com/dzZnnYi.png\" alt=\"CRISP-DM\" width=\"800\"/>"
      ]
    },
    {
      "cell_type": "code",
      "execution_count": 96,
      "metadata": {
        "colab": {
          "base_uri": "https://localhost:8080/"
        },
        "id": "oBU45cErQZ7M",
        "outputId": "d6ed185c-6fe4-4262-82b6-6021dae494dc"
      },
      "outputs": [
        {
          "data": {
            "text/plain": [
              "(7565, 7)"
            ]
          },
          "execution_count": 96,
          "metadata": {},
          "output_type": "execute_result"
        }
      ],
      "source": [
        "df.shape"
      ]
    },
    {
      "cell_type": "code",
      "execution_count": 97,
      "metadata": {
        "colab": {
          "base_uri": "https://localhost:8080/"
        },
        "id": "YHTTEETqQbhU",
        "outputId": "5b440557-b3e9-46a4-d493-3bd4960e5e9a"
      },
      "outputs": [
        {
          "name": "stdout",
          "output_type": "stream",
          "text": [
            "<class 'pandas.core.frame.DataFrame'>\n",
            "RangeIndex: 7565 entries, 0 to 7564\n",
            "Data columns (total 7 columns):\n",
            " #   Column      Non-Null Count  Dtype \n",
            "---  ------      --------------  ----- \n",
            " 0   location    7565 non-null   object\n",
            " 1   district    7565 non-null   object\n",
            " 2   rooms       7565 non-null   int64 \n",
            " 3   size        7565 non-null   object\n",
            " 4   level       7565 non-null   int64 \n",
            " 5   max_levels  7565 non-null   int64 \n",
            " 6   price       7565 non-null   object\n",
            "dtypes: int64(3), object(4)\n",
            "memory usage: 413.8+ KB\n"
          ]
        }
      ],
      "source": [
        "df.info()"
      ]
    },
    {
      "cell_type": "code",
      "execution_count": 98,
      "metadata": {
        "id": "p8K3fIxSQk8K"
      },
      "outputs": [],
      "source": [
        "import numpy as np\n",
        "\n",
        "df.price = df.price.replace('Договорная', np.nan).astype(float)"
      ]
    },
    {
      "cell_type": "code",
      "execution_count": 99,
      "metadata": {
        "id": "RIYdbniKRYYX"
      },
      "outputs": [],
      "source": [
        "df['size'] = df['size'].replace('Площадьземли:1сот', 100).astype(float)"
      ]
    },
    {
      "cell_type": "code",
      "execution_count": 100,
      "metadata": {
        "id": "NhNN1PN-3pMZ"
      },
      "outputs": [],
      "source": [
        "# Group by 'district' and calculate the mean of 'price' for each group\n",
        "price_mean = df.groupby('district')['price'].transform(lambda x: x.fillna(x.mean()))\n",
        "\n",
        "df['price'] = df['price'].fillna(price_mean)"
      ]
    },
    {
      "cell_type": "code",
      "execution_count": 101,
      "metadata": {},
      "outputs": [
        {
          "data": {
            "text/html": [
              "<div>\n",
              "<style scoped>\n",
              "    .dataframe tbody tr th:only-of-type {\n",
              "        vertical-align: middle;\n",
              "    }\n",
              "\n",
              "    .dataframe tbody tr th {\n",
              "        vertical-align: top;\n",
              "    }\n",
              "\n",
              "    .dataframe thead th {\n",
              "        text-align: right;\n",
              "    }\n",
              "</style>\n",
              "<table border=\"1\" class=\"dataframe\">\n",
              "  <thead>\n",
              "    <tr style=\"text-align: right;\">\n",
              "      <th></th>\n",
              "      <th>location</th>\n",
              "      <th>district</th>\n",
              "      <th>rooms</th>\n",
              "      <th>size</th>\n",
              "      <th>level</th>\n",
              "      <th>max_levels</th>\n",
              "      <th>price</th>\n",
              "    </tr>\n",
              "  </thead>\n",
              "  <tbody>\n",
              "    <tr>\n",
              "      <th>5176</th>\n",
              "      <td>город Ташкент, Юнусабадский район, 1-й проезд ...</td>\n",
              "      <td>Юнусабадский</td>\n",
              "      <td>1</td>\n",
              "      <td>18.0</td>\n",
              "      <td>1</td>\n",
              "      <td>4</td>\n",
              "      <td>12500.0</td>\n",
              "    </tr>\n",
              "    <tr>\n",
              "      <th>4635</th>\n",
              "      <td>город Ташкент, Юнусабадский район, 4-й проезд ...</td>\n",
              "      <td>Юнусабадский</td>\n",
              "      <td>1</td>\n",
              "      <td>21.0</td>\n",
              "      <td>4</td>\n",
              "      <td>4</td>\n",
              "      <td>12500.0</td>\n",
              "    </tr>\n",
              "    <tr>\n",
              "      <th>6681</th>\n",
              "      <td>город Ташкент, Юнусабадский район, ТашГРЭС</td>\n",
              "      <td>Юнусабадский</td>\n",
              "      <td>1</td>\n",
              "      <td>24.0</td>\n",
              "      <td>7</td>\n",
              "      <td>10</td>\n",
              "      <td>13680.0</td>\n",
              "    </tr>\n",
              "    <tr>\n",
              "      <th>7408</th>\n",
              "      <td>город Ташкент, Юнусабадский район, Юнусабад 2-...</td>\n",
              "      <td>Юнусабадский</td>\n",
              "      <td>1</td>\n",
              "      <td>32.0</td>\n",
              "      <td>3</td>\n",
              "      <td>4</td>\n",
              "      <td>16000.0</td>\n",
              "    </tr>\n",
              "    <tr>\n",
              "      <th>7392</th>\n",
              "      <td>город Ташкент, Юнусабадский район, ТашГРЭС</td>\n",
              "      <td>Юнусабадский</td>\n",
              "      <td>1</td>\n",
              "      <td>25.0</td>\n",
              "      <td>1</td>\n",
              "      <td>2</td>\n",
              "      <td>17000.0</td>\n",
              "    </tr>\n",
              "    <tr>\n",
              "      <th>...</th>\n",
              "      <td>...</td>\n",
              "      <td>...</td>\n",
              "      <td>...</td>\n",
              "      <td>...</td>\n",
              "      <td>...</td>\n",
              "      <td>...</td>\n",
              "      <td>...</td>\n",
              "    </tr>\n",
              "    <tr>\n",
              "      <th>1968</th>\n",
              "      <td>город Ташкент, Юнусабадский район, Киёт</td>\n",
              "      <td>Юнусабадский</td>\n",
              "      <td>6</td>\n",
              "      <td>252.0</td>\n",
              "      <td>1</td>\n",
              "      <td>8</td>\n",
              "      <td>285000.0</td>\n",
              "    </tr>\n",
              "    <tr>\n",
              "      <th>1934</th>\n",
              "      <td>город Ташкент, Юнусабадский район, Кичик Халка...</td>\n",
              "      <td>Юнусабадский</td>\n",
              "      <td>5</td>\n",
              "      <td>280.0</td>\n",
              "      <td>6</td>\n",
              "      <td>8</td>\n",
              "      <td>320000.0</td>\n",
              "    </tr>\n",
              "    <tr>\n",
              "      <th>600</th>\n",
              "      <td>город Ташкент, Юнусабадский район, Кашгар</td>\n",
              "      <td>Юнусабадский</td>\n",
              "      <td>3</td>\n",
              "      <td>110.0</td>\n",
              "      <td>5</td>\n",
              "      <td>8</td>\n",
              "      <td>335000.0</td>\n",
              "    </tr>\n",
              "    <tr>\n",
              "      <th>1557</th>\n",
              "      <td>город Ташкент, Юнусабадский район, Минор</td>\n",
              "      <td>Юнусабадский</td>\n",
              "      <td>10</td>\n",
              "      <td>448.0</td>\n",
              "      <td>7</td>\n",
              "      <td>7</td>\n",
              "      <td>425600.0</td>\n",
              "    </tr>\n",
              "    <tr>\n",
              "      <th>5874</th>\n",
              "      <td>город Ташкент, Юнусабадский район, Минор</td>\n",
              "      <td>Юнусабадский</td>\n",
              "      <td>10</td>\n",
              "      <td>448.0</td>\n",
              "      <td>7</td>\n",
              "      <td>7</td>\n",
              "      <td>425600.0</td>\n",
              "    </tr>\n",
              "  </tbody>\n",
              "</table>\n",
              "<p>883 rows × 7 columns</p>\n",
              "</div>"
            ],
            "text/plain": [
              "                                               location      district  rooms  \\\n",
              "5176  город Ташкент, Юнусабадский район, 1-й проезд ...  Юнусабадский      1   \n",
              "4635  город Ташкент, Юнусабадский район, 4-й проезд ...  Юнусабадский      1   \n",
              "6681         город Ташкент, Юнусабадский район, ТашГРЭС  Юнусабадский      1   \n",
              "7408  город Ташкент, Юнусабадский район, Юнусабад 2-...  Юнусабадский      1   \n",
              "7392         город Ташкент, Юнусабадский район, ТашГРЭС  Юнусабадский      1   \n",
              "...                                                 ...           ...    ...   \n",
              "1968            город Ташкент, Юнусабадский район, Киёт  Юнусабадский      6   \n",
              "1934  город Ташкент, Юнусабадский район, Кичик Халка...  Юнусабадский      5   \n",
              "600           город Ташкент, Юнусабадский район, Кашгар  Юнусабадский      3   \n",
              "1557           город Ташкент, Юнусабадский район, Минор  Юнусабадский     10   \n",
              "5874           город Ташкент, Юнусабадский район, Минор  Юнусабадский     10   \n",
              "\n",
              "       size  level  max_levels     price  \n",
              "5176   18.0      1           4   12500.0  \n",
              "4635   21.0      4           4   12500.0  \n",
              "6681   24.0      7          10   13680.0  \n",
              "7408   32.0      3           4   16000.0  \n",
              "7392   25.0      1           2   17000.0  \n",
              "...     ...    ...         ...       ...  \n",
              "1968  252.0      1           8  285000.0  \n",
              "1934  280.0      6           8  320000.0  \n",
              "600   110.0      5           8  335000.0  \n",
              "1557  448.0      7           7  425600.0  \n",
              "5874  448.0      7           7  425600.0  \n",
              "\n",
              "[883 rows x 7 columns]"
            ]
          },
          "execution_count": 101,
          "metadata": {},
          "output_type": "execute_result"
        }
      ],
      "source": [
        "df.sort_values('price', ascending=False).head(50)\n",
        "\n",
        "df.at[5903, 'price'] = df[df.district == 'Учтепинский'].price.mean()\n",
        "df.at[6952, 'price'] = df[df.district == 'Шайхантахурский'].price.mean()\n",
        "df.at[6952, 'price'] = df[df.district == 'Шайхантахурский'].price.mean()\n",
        "df.at[7296, 'price'] = df[df.district == 'Яшнободский'].price.mean()\n",
        "df.at[330, 'price'] = df[df.district == 'Яшнободский'].price.mean()\n",
        "df.at[1744, 'price'] = df[df.district == 'Олмазорский'].price.mean()\n",
        "df.at[6517, 'price'] = df[df.district == 'Юнусабадский'].price.mean()\n",
        "df.at[6133, 'price'] = df[df.district == 'Юнусабадский'].price.mean()\n",
        "\n",
        "\n",
        "df[df.district == 'Юнусабадский'].sort_values('price')"
      ]
    },
    {
      "cell_type": "code",
      "execution_count": 102,
      "metadata": {},
      "outputs": [
        {
          "data": {
            "text/plain": [
              "([0, 1, 2, 3, 4, 5, 6, 7, 8, 9, 10, 11],\n",
              " [Text(0, 0, 'Юнусабадский'),\n",
              "  Text(1, 0, 'Яккасарайский'),\n",
              "  Text(2, 0, 'Чиланзарский'),\n",
              "  Text(3, 0, 'Учтепинский'),\n",
              "  Text(4, 0, 'Мирзо-Улугбекский'),\n",
              "  Text(5, 0, 'Яшнободский'),\n",
              "  Text(6, 0, 'Мирабадский'),\n",
              "  Text(7, 0, 'Шайхантахурский'),\n",
              "  Text(8, 0, 'Олмазорский'),\n",
              "  Text(9, 0, 'Сергелийский'),\n",
              "  Text(10, 0, 'Янгихаётский'),\n",
              "  Text(11, 0, 'Бектемирский')])"
            ]
          },
          "execution_count": 102,
          "metadata": {},
          "output_type": "execute_result"
        },
        {
          "data": {
            "image/png": "[encoded data removed]",
            "text/plain": [
              "<Figure size 1000x700 with 1 Axes>"
            ]
          },
          "metadata": {},
          "output_type": "display_data"
        }
      ],
      "source": [
        "import seaborn as sns\n",
        "import matplotlib.pyplot as plt\n",
        "\n",
        "plt.figure(figsize=(10, 7))\n",
        "sns.barplot(data=df, x='district', y='price')\n",
        "plt.xticks(rotation=90)\n",
        "# plt.show()"
      ]
    },
    {
      "cell_type": "code",
      "execution_count": 103,
      "metadata": {
        "colab": {
          "base_uri": "https://localhost:8080/",
          "height": 465
        },
        "id": "TrQUW2QjwoUj",
        "outputId": "a3b894b5-afb9-48d5-830d-5c97ecace736"
      },
      "outputs": [
        {
          "data": {
            "image/png": "[encoded data removed]",
            "text/plain": [
              "<Figure size 1000x500 with 1 Axes>"
            ]
          },
          "metadata": {},
          "output_type": "display_data"
        }
      ],
      "source": [
        "import matplotlib.pyplot as plt\n",
        "import seaborn as sns\n",
        "\n",
        "%matplotlib inline\n",
        "\n",
        "plt.figure(figsize=(10, 5))\n",
        "\n",
        "sns.scatterplot(data=df, x='rooms', y=df.price)\n",
        "# sns.lineplot(data=df, x='rooms', y='price')\n",
        "\n",
        "\n",
        "plt.show()"
      ]
    },
    {
      "cell_type": "code",
      "execution_count": 104,
      "metadata": {
        "id": "_QZesEx0cNId"
      },
      "outputs": [],
      "source": [
        "from sklearn.model_selection import train_test_split\n",
        "\n",
        "train_set, test_set = train_test_split(df)"
      ]
    }
  ],
  "metadata": {
    "colab": {
      "provenance": []
    },
    "kernelspec": {
      "display_name": ".venv",
      "language": "python",
      "name": "python3"
    },
    "language_info": {
      "codemirror_mode": {
        "name": "ipython",
        "version": 3
      },
      "file_extension": ".py",
      "mimetype": "text/x-python",
      "name": "python",
      "nbconvert_exporter": "python",
      "pygments_lexer": "ipython3",
      "version": "3.12.3"
    }
  },
  "nbformat": 4,
  "nbformat_minor": 0
}
