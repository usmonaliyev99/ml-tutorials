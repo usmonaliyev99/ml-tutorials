{
 "cells": [
  {
   "cell_type": "code",
   "execution_count": 1,
   "metadata": {},
   "outputs": [],
   "source": [
    "# Let's import numpy\n",
    "\n",
    "import numpy as np"
   ]
  },
  {
   "cell_type": "code",
   "execution_count": 2,
   "metadata": {},
   "outputs": [
    {
     "data": {
      "text/plain": [
       "array([[53, 26, 91, 53, 60, 73, 83, 31],\n",
       "       [27, 58, 56, 57, 26, 58, 45, 11],\n",
       "       [27, 69, 35, 70,  2, 90, 46, 89],\n",
       "       [20,  1, 58, 56, 71, 16,  9, 17],\n",
       "       [90, 55, 48, 84, 34, 54,  7,  4],\n",
       "       [44, 63, 82, 15, 52, 62,  8, 63],\n",
       "       [15, 21, 75, 76, 50, 16,  6, 39],\n",
       "       [47, 92, 77,  7, 83, 28, 83, 69]])"
      ]
     },
     "execution_count": 2,
     "metadata": {},
     "output_type": "execute_result"
    }
   ],
   "source": [
    "numbers = np.random.randint(low=1, high=99, size=(8, 8))\n",
    "numbers"
   ]
  },
  {
   "cell_type": "code",
   "execution_count": 3,
   "metadata": {},
   "outputs": [],
   "source": [
    "np.save('random_numbers.npy', numbers)"
   ]
  },
  {
   "cell_type": "code",
   "execution_count": 4,
   "metadata": {},
   "outputs": [
    {
     "data": {
      "text/plain": [
       "array([[53, 26, 91, 53, 60, 73, 83, 31],\n",
       "       [27, 58, 56, 57, 26, 58, 45, 11],\n",
       "       [27, 69, 35, 70,  2, 90, 46, 89],\n",
       "       [20,  1, 58, 56, 71, 16,  9, 17],\n",
       "       [90, 55, 48, 84, 34, 54,  7,  4],\n",
       "       [44, 63, 82, 15, 52, 62,  8, 63],\n",
       "       [15, 21, 75, 76, 50, 16,  6, 39],\n",
       "       [47, 92, 77,  7, 83, 28, 83, 69]])"
      ]
     },
     "execution_count": 4,
     "metadata": {},
     "output_type": "execute_result"
    }
   ],
   "source": [
    "random_numbers = np.load('random_numbers.npy')\n",
    "random_numbers"
   ]
  }
 ],
 "metadata": {
  "kernelspec": {
   "display_name": ".venv",
   "language": "python",
   "name": "python3"
  },
  "language_info": {
   "codemirror_mode": {
    "name": "ipython",
    "version": 3
   },
   "file_extension": ".py",
   "mimetype": "text/x-python",
   "name": "python",
   "nbconvert_exporter": "python",
   "pygments_lexer": "ipython3",
   "version": "3.9.18"
  }
 },
 "nbformat": 4,
 "nbformat_minor": 2
}
